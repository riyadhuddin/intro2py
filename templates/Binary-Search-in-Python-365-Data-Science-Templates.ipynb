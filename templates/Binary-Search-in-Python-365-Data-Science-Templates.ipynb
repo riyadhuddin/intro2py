{
 "cells": [
  {
   "cell_type": "markdown",
   "id": "4210671e",
   "metadata": {},
   "source": [
    "<hr style=\"border:5px solid #141F31\"> </hr>"
   ]
  },
  {
   "cell_type": "markdown",
   "id": "c6f84f9f",
   "metadata": {},
   "source": [
    "# 365 DataScience Binary search in Python"
   ]
  },
  {
   "cell_type": "markdown",
   "id": "33bc0a4c",
   "metadata": {},
   "source": [
    "<hr style=\"border:5px solid #141F31\"> </hr>"
   ]
  },
  {
   "cell_type": "markdown",
   "id": "c23411fa",
   "metadata": {},
   "source": [
    "## Step 1 Create a function that performs a binary search on a list"
   ]
  },
  {
   "cell_type": "code",
   "execution_count": null,
   "id": "fbae2b61",
   "metadata": {},
   "outputs": [],
   "source": [
    "# Binary search is an algorithm that relies upon the fact that the list is sorted.\n",
    "\n",
    "def binary_search(item, my_list):\n",
    "    # Make sure that the list is sorted.\n",
    "    my_list_sorted = sorted(my_list)\n",
    "    # Create a boolean variable which initially assumes that the item is not found.\n",
    "    found = False\n",
    "    # Keep track of the index of the first item in the list\n",
    "    first = 0\n",
    "    # Keep track of the index of the last item in the list\n",
    "    last = len(my_list_sorted) - 1\n",
    "    \n",
    "    # While the index of the first item is less than or equal to the index of the last item\n",
    "    # and the item is still not found, perform the operations in the body of the loop.\n",
    "    while first <= last and found == False:\n",
    "        \n",
    "        # Calculate the index of the item that sits in the middle of the list.\n",
    "        # We use floor division as we want integers and not decimal numbers.\n",
    "        midpoint = (first + last)//2\n",
    "        \n",
    "        # Check if this middle item is the item we are looking for.\n",
    "        if my_list_sorted[midpoint] == item:\n",
    "            \n",
    "            # If it is, set the boolean variable to True \n",
    "            found = True\n",
    "        \n",
    "        # If it is not, do the followng:\n",
    "        else:\n",
    "            \n",
    "            # Check if the value of the midpoint is less than the item we are looking for\n",
    "            if my_list_sorted[midpoint] < item:\n",
    "                \n",
    "                # Increase the initial index by one\n",
    "                first = midpoint + 1\n",
    "                \n",
    "            # If the value of the midpoint is greater than the item we are looking for \n",
    "            else:\n",
    "                \n",
    "                # Decrease the last index by one\n",
    "                last = midpoint - 1\n",
    "                \n",
    "    # Return whether we have found the item or not.\n",
    "    return found  "
   ]
  },
  {
   "cell_type": "markdown",
   "id": "fe42fad1",
   "metadata": {},
   "source": [
    "## Step 2 Check if the function performs as expected"
   ]
  },
  {
   "cell_type": "code",
   "execution_count": null,
   "id": "2c9938e7",
   "metadata": {},
   "outputs": [],
   "source": [
    "# Create a list of numbers\n",
    "test = [6, 5, 8, 2, 3, 45, 87, 24, 70]\n",
    "\n",
    "# Check if the number 4 is inside this list.\n",
    "print(binary_search(4,test))\n",
    "\n",
    "# Check if the number 87 is inside this list.\n",
    "print(binary_search(87,test))"
   ]
  }
 ],
 "metadata": {
  "kernelspec": {
   "display_name": "Python 3 (ipykernel)",
   "language": "python",
   "name": "python3"
  },
  "language_info": {
   "codemirror_mode": {
    "name": "ipython",
    "version": 3
   },
   "file_extension": ".py",
   "mimetype": "text/x-python",
   "name": "python",
   "nbconvert_exporter": "python",
   "pygments_lexer": "ipython3",
   "version": "3.8.8"
  }
 },
 "nbformat": 4,
 "nbformat_minor": 5
}
