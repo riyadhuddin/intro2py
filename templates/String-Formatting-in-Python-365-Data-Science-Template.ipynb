{
 "cells": [
  {
   "cell_type": "markdown",
   "id": "4210671e",
   "metadata": {},
   "source": [
    "<hr style=\"border:5px solid #141F31\"> </hr>"
   ]
  },
  {
   "cell_type": "markdown",
   "id": "c6f84f9f",
   "metadata": {},
   "source": [
    "# 365 DataScience String formatting in Python"
   ]
  },
  {
   "cell_type": "markdown",
   "id": "33bc0a4c",
   "metadata": {},
   "source": [
    "<hr style=\"border:5px solid #141F31\"> </hr>"
   ]
  },
  {
   "cell_type": "markdown",
   "id": "f2fcd4ac",
   "metadata": {},
   "source": [
    "## Step 1 Concatenate strings"
   ]
  },
  {
   "cell_type": "code",
   "execution_count": null,
   "id": "30dda7d4",
   "metadata": {},
   "outputs": [],
   "source": [
    "phrase_1 = 'The cat sat on the mat!'\n",
    "phrase_2 = 'And so did the dog!'\n",
    "\n",
    "# A plus sign will concatenate the strings.\n",
    "# For clarity, we add a space between the two phrases.\n",
    "combined = phrase_1 + ' ' + phrase_2\n",
    "combined"
   ]
  },
  {
   "cell_type": "markdown",
   "id": "5cefdba4",
   "metadata": {},
   "source": [
    "## Step 2 Find the length of a string"
   ]
  },
  {
   "cell_type": "code",
   "execution_count": null,
   "id": "8ca6bdb9",
   "metadata": {},
   "outputs": [],
   "source": [
    "python = 'python'\n",
    "len(python)"
   ]
  },
  {
   "cell_type": "markdown",
   "id": "565edbad",
   "metadata": {},
   "source": [
    "## Step 3 Slice a string"
   ]
  },
  {
   "cell_type": "code",
   "execution_count": null,
   "id": "ab1efd2f",
   "metadata": {},
   "outputs": [],
   "source": [
    "# Indexing in Python starts from 0.\n",
    "# To return the first character of a string, add square brackets with a 0 inside.\n",
    "python[0]"
   ]
  },
  {
   "cell_type": "code",
   "execution_count": null,
   "id": "4ec2a188",
   "metadata": {},
   "outputs": [],
   "source": [
    "# To return the second character of a string, add square brackets with a 1 inside.\n",
    "python[1]"
   ]
  },
  {
   "cell_type": "code",
   "execution_count": null,
   "id": "cfe93db4",
   "metadata": {},
   "outputs": [],
   "source": [
    "# Use a '-' sign to access the string from the end.\n",
    "# You can return the last character of a string by putting -1 in square brackets.\n",
    "python[-1]"
   ]
  },
  {
   "cell_type": "code",
   "execution_count": null,
   "id": "14384126",
   "metadata": {},
   "outputs": [],
   "source": [
    "# You can return a portion of the string using the syntax\n",
    "# [i:j],\n",
    "# where 'i' is the index of the first character and 'j-1'\n",
    "# is the index of the last character.\n",
    "python[1:4]"
   ]
  },
  {
   "cell_type": "code",
   "execution_count": null,
   "id": "4f9a334e",
   "metadata": {},
   "outputs": [],
   "source": [
    "# The syntax\n",
    "# [:i]\n",
    "# will output all character from index 0 to index 'i-1'.\n",
    "python[:4]"
   ]
  },
  {
   "cell_type": "markdown",
   "id": "88018c86",
   "metadata": {},
   "source": [
    "## Step 4 Make all characters upper- or lowercase"
   ]
  },
  {
   "cell_type": "code",
   "execution_count": null,
   "id": "6a9346e0",
   "metadata": {},
   "outputs": [],
   "source": [
    "# Make only the first character in the string capital\n",
    "python.capitalize()"
   ]
  },
  {
   "cell_type": "code",
   "execution_count": null,
   "id": "39cbfa84",
   "metadata": {},
   "outputs": [],
   "source": [
    "# Make all characters in uppercase\n",
    "python_capital = python.upper()\n",
    "python_capital"
   ]
  },
  {
   "cell_type": "code",
   "execution_count": null,
   "id": "ce84f008",
   "metadata": {},
   "outputs": [],
   "source": [
    "# Make all characters in lowercase\n",
    "python_lower = python_capital.lower()\n",
    "python_lower"
   ]
  },
  {
   "cell_type": "markdown",
   "id": "d333e4ce",
   "metadata": {},
   "source": [
    "## Step 5 The split() and strip() methods"
   ]
  },
  {
   "cell_type": "code",
   "execution_count": null,
   "id": "ad9cfcb4",
   "metadata": {},
   "outputs": [],
   "source": [
    "piet_hein = 'When you feel how depressingly \\n\\\n",
    "slowly you climb \\n\\\n",
    "it\\'s well to remember that \\n\\\n",
    "Things Take Time.'"
   ]
  },
  {
   "cell_type": "code",
   "execution_count": null,
   "id": "9f60923b",
   "metadata": {},
   "outputs": [],
   "source": [
    "print(piet_hein)"
   ]
  },
  {
   "cell_type": "code",
   "execution_count": null,
   "id": "7012df86",
   "metadata": {},
   "outputs": [],
   "source": [
    "# Split this string into smaller strings by breaking the 'piet_hein' variable by the specified separator.\n",
    "# In this case, the separator is a space.\n",
    "words_raw = piet_hein.split(' ')\n",
    "words_raw"
   ]
  },
  {
   "cell_type": "code",
   "execution_count": null,
   "id": "1267ee6a",
   "metadata": {},
   "outputs": [],
   "source": [
    "# Notice how the words list above contains '\\n'.\n",
    "# Often, this is not desired, so we apply the strip('\\n') method below on each word.\n",
    "words_stripped = [word.strip('\\n') for word in words_raw]\n",
    "words_stripped"
   ]
  },
  {
   "cell_type": "markdown",
   "id": "0190e78c",
   "metadata": {},
   "source": [
    "## Step 6 The 'in' keyword"
   ]
  },
  {
   "cell_type": "code",
   "execution_count": null,
   "id": "81b4b8bb",
   "metadata": {},
   "outputs": [],
   "source": [
    "# Check whether a certain string is present in the list\n",
    "print('When' in words_stripped)\n",
    "print('when' in words_stripped)"
   ]
  },
  {
   "cell_type": "markdown",
   "id": "cc0202dc",
   "metadata": {},
   "source": [
    "<a href=\"https://365datascience.com/resources-center/offer/?utm_medium=web&utm_source=rs&utm_campaign=web-rs-string-formatting-in-python&utm_content=string-formatting-in-python&utm_term=t\">Start your 365 Journey!</a>"
   ]
  },
  {
   "cell_type": "code",
   "execution_count": null,
   "id": "211841b9",
   "metadata": {},
   "outputs": [],
   "source": []
  }
 ],
 "metadata": {
  "kernelspec": {
   "display_name": "Python 3 (ipykernel)",
   "language": "python",
   "name": "python3"
  },
  "language_info": {
   "codemirror_mode": {
    "name": "ipython",
    "version": 3
   },
   "file_extension": ".py",
   "mimetype": "text/x-python",
   "name": "python",
   "nbconvert_exporter": "python",
   "pygments_lexer": "ipython3",
   "version": "3.9.7"
  }
 },
 "nbformat": 4,
 "nbformat_minor": 5
}
