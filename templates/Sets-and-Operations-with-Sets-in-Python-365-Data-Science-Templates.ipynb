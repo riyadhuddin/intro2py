{
 "cells": [
  {
   "cell_type": "markdown",
   "id": "86c3b528",
   "metadata": {},
   "source": [
    "<hr style=\"border:5px solid #141F31\"> </hr>"
   ]
  },
  {
   "cell_type": "markdown",
   "id": "c6f84f9f",
   "metadata": {},
   "source": [
    "# 365 DataScience Sets and operations with sets in Python"
   ]
  },
  {
   "cell_type": "markdown",
   "id": "278203ee",
   "metadata": {},
   "source": [
    "<hr style=\"border:5px solid #141F31\"> </hr>"
   ]
  },
  {
   "cell_type": "markdown",
   "id": "91db6200",
   "metadata": {},
   "source": [
    "## Step 1 Define two lists containing repeating items"
   ]
  },
  {
   "cell_type": "code",
   "execution_count": null,
   "id": "031b9ad2",
   "metadata": {},
   "outputs": [],
   "source": [
    "# Sets are used whenever we don't care about the number of times a certain item occurs.\n",
    "# Instead, all we are interested in are the types of items that are present."
   ]
  },
  {
   "cell_type": "code",
   "execution_count": null,
   "id": "17aae246",
   "metadata": {},
   "outputs": [],
   "source": [
    "A = [1,1,2,2,3,3,4,4,5,5,6,6,7,7,8,8,9,9]\n",
    "B = [6,6,7,7,8,8,9,9,10,10,11,11,12,12,13,13,14,14]"
   ]
  },
  {
   "cell_type": "markdown",
   "id": "7d18c477",
   "metadata": {},
   "source": [
    "## Step 2 Convert the two lists into sets"
   ]
  },
  {
   "cell_type": "code",
   "execution_count": null,
   "id": "c7ac7358",
   "metadata": {},
   "outputs": [],
   "source": [
    "# You can convert a list into a set by applying the set() built-in function.\n",
    "# Notice that the type of brackets surrounding the numbers has changed.\n",
    "# Notice that the duplicates have disappeared.\n",
    "A = set(A)\n",
    "A"
   ]
  },
  {
   "cell_type": "code",
   "execution_count": null,
   "id": "3f24da86",
   "metadata": {},
   "outputs": [],
   "source": [
    "B = set(B)\n",
    "B"
   ]
  },
  {
   "cell_type": "markdown",
   "id": "1738f9ed",
   "metadata": {},
   "source": [
    "## Step 3 Intersect sets A and B"
   ]
  },
  {
   "cell_type": "code",
   "execution_count": null,
   "id": "f6a108e8",
   "metadata": {},
   "outputs": [],
   "source": [
    "# The intersection operation finds and displays the common items between the two sets.\n",
    "A & B"
   ]
  },
  {
   "cell_type": "markdown",
   "id": "5675be95",
   "metadata": {},
   "source": [
    "## Step 4 Unite sets A and B"
   ]
  },
  {
   "cell_type": "code",
   "execution_count": null,
   "id": "db47c534",
   "metadata": {},
   "outputs": [],
   "source": [
    "# The union operation combines the items in the two sets by removing the duplicates.\n",
    "A | B"
   ]
  },
  {
   "cell_type": "markdown",
   "id": "25a87b30",
   "metadata": {},
   "source": [
    "## Step 5 Take the difference between the two sets"
   ]
  },
  {
   "cell_type": "code",
   "execution_count": null,
   "id": "599ead44",
   "metadata": {},
   "outputs": [],
   "source": [
    "# This difference tells you the items that are in A but not in B\n",
    "A - B"
   ]
  },
  {
   "cell_type": "code",
   "execution_count": null,
   "id": "ec486a58",
   "metadata": {},
   "outputs": [],
   "source": [
    "# This difference tells you the items that are in B but not in A\n",
    "B - A"
   ]
  },
  {
   "cell_type": "markdown",
   "id": "3d3ce26a",
   "metadata": {},
   "source": [
    "## Step 6 Take the symmetric difference between the two sets"
   ]
  },
  {
   "cell_type": "code",
   "execution_count": null,
   "id": "7cca391d",
   "metadata": {},
   "outputs": [],
   "source": [
    "# The symmetric difference tells you the items that are in A and the items that are in B\n",
    "# but they are not in both sets.\n",
    "A ^ B"
   ]
  }
 ],
 "metadata": {
  "kernelspec": {
   "display_name": "Python 3 (ipykernel)",
   "language": "python",
   "name": "python3"
  },
  "language_info": {
   "codemirror_mode": {
    "name": "ipython",
    "version": 3
   },
   "file_extension": ".py",
   "mimetype": "text/x-python",
   "name": "python",
   "nbconvert_exporter": "python",
   "pygments_lexer": "ipython3",
   "version": "3.8.8"
  }
 },
 "nbformat": 4,
 "nbformat_minor": 5
}
