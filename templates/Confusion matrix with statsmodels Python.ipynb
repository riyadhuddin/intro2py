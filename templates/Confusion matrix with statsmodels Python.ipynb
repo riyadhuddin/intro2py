{
 "cells": [
  {
   "cell_type": "markdown",
   "id": "9e53bbe9",
   "metadata": {},
   "source": [
    "<hr style=\"border:5px solid #141F31\"> </hr>"
   ]
  },
  {
   "cell_type": "markdown",
   "id": "3afb8763",
   "metadata": {},
   "source": [
    "# 365 DataScience Confusion matrix with statsmodels Python"
   ]
  },
  {
   "cell_type": "markdown",
   "id": "65c1edbf",
   "metadata": {},
   "source": [
    "<hr style=\"border:4.5px solid #141F31\"> </hr>"
   ]
  },
  {
   "cell_type": "markdown",
   "id": "6348552d",
   "metadata": {},
   "source": [
    "## Step 1 Import the libraries"
   ]
  },
  {
   "cell_type": "code",
   "execution_count": null,
   "id": "2d99a27c",
   "metadata": {},
   "outputs": [],
   "source": [
    "# Data manipulation\n",
    "import pandas as pd \n",
    "\n",
    "# Running the regression\n",
    "import statsmodels.api as sm\n",
    "\n",
    "# The Python package for scientific computing\n",
    "import numpy as np\n",
    "\n",
    "# Main visualization module\n",
    "import matplotlib.pyplot as plt\n",
    "\n",
    "# Seaborn's style on top of matplotlib\n",
    "import seaborn as sns\n",
    "# Override the default matplotlib styles with those of seaborn\n",
    "sns.set()"
   ]
  },
  {
   "cell_type": "markdown",
   "id": "4a8d168f",
   "metadata": {},
   "source": [
    "## Step 2 Load the data"
   ]
  },
  {
   "cell_type": "code",
   "execution_count": null,
   "id": "e1e23b3b",
   "metadata": {},
   "outputs": [],
   "source": [
    "# Load the data from a .csv file located in the same folder as the notebook\n",
    "data = pd.read_csv('Admittance - logistic regression.csv', sep = ',')"
   ]
  },
  {
   "cell_type": "code",
   "execution_count": null,
   "id": "9c67cf02",
   "metadata": {},
   "outputs": [],
   "source": [
    "# Display the first few lines of the data\n",
    "data.head()"
   ]
  },
  {
   "cell_type": "markdown",
   "id": "84b937ed",
   "metadata": {},
   "source": [
    "## Step 3 Map the categorical values to numerical ones"
   ]
  },
  {
   "cell_type": "code",
   "execution_count": null,
   "id": "cf690f77",
   "metadata": {},
   "outputs": [],
   "source": [
    "# Create a copy of the data in a variable called 'data_mapped'\n",
    "data_mapped = data.copy()\n",
    "\n",
    "# Map all 'No' entries from the 'Admitted' column to 0, and all 'Yes' entries to 1.\n",
    "# Store these new values in the 'Admitted' column of the 'data_mapped' dataframe\n",
    "data_mapped['Admitted'] = data_mapped['Admitted'].map({'Yes': 1, 'No': 0})\n",
    "data_mapped"
   ]
  },
  {
   "cell_type": "markdown",
   "id": "e4d729ec",
   "metadata": {},
   "source": [
    "## Step 4 Define the inputs and the targets"
   ]
  },
  {
   "cell_type": "code",
   "execution_count": null,
   "id": "86199098",
   "metadata": {},
   "outputs": [],
   "source": [
    "# Define the dependent variable to be the Admittance\n",
    "y = data_mapped['Admitted']\n",
    "\n",
    "# Define the independent variable to be the SAT score\n",
    "x1 = data_mapped['SAT']"
   ]
  },
  {
   "cell_type": "markdown",
   "id": "0feba76f",
   "metadata": {},
   "source": [
    "## Step 5 Visualize the data"
   ]
  },
  {
   "cell_type": "code",
   "execution_count": null,
   "id": "907e71fc",
   "metadata": {},
   "outputs": [],
   "source": [
    "# Create a scatter plot of y versus x1\n",
    "plt.scatter(x1, y)\n",
    "\n",
    "# Label the axes\n",
    "plt.xlabel('SAT', fontsize = 20)\n",
    "plt.ylabel('Admitted', fontsize = 20)\n",
    "plt.show()"
   ]
  },
  {
   "cell_type": "markdown",
   "id": "df4bb017",
   "metadata": {},
   "source": [
    "## Step 6 Perform the regression"
   ]
  },
  {
   "cell_type": "code",
   "execution_count": null,
   "id": "2064eb16",
   "metadata": {},
   "outputs": [],
   "source": [
    "# Add a new column (equal in lenght to x1) consisting only of ones\n",
    "x = sm.add_constant(x1)\n",
    "x.head()"
   ]
  },
  {
   "cell_type": "code",
   "execution_count": null,
   "id": "eeae0ed1",
   "metadata": {},
   "outputs": [],
   "source": [
    "# For the logistic regression, we make use of the Logit class from the statsmodels library.\n",
    "# Create an instance of the Logit class\n",
    "reg_log = sm.Logit(y,x)\n",
    "\n",
    "# Fit the regression\n",
    "results_log = reg_log.fit()"
   ]
  },
  {
   "cell_type": "markdown",
   "id": "01da25fc",
   "metadata": {},
   "source": [
    "## Step 7 Construct the confusion matrix"
   ]
  },
  {
   "cell_type": "code",
   "execution_count": null,
   "id": "8154fd45",
   "metadata": {},
   "outputs": [],
   "source": [
    "# Apply formatting on the np array below, so that the results are read more easily\n",
    "np.set_printoptions(formatter={'float': lambda x: \"{0:0.2f}\".format(x)})\n",
    "\n",
    "# Call the 'predict()' method to return the values predicted by the model\n",
    "results_log.predict()"
   ]
  },
  {
   "cell_type": "code",
   "execution_count": null,
   "id": "3ff1cbe5",
   "metadata": {},
   "outputs": [],
   "source": [
    "# Display the true values\n",
    "np.array(data_mapped['Admitted'])"
   ]
  },
  {
   "cell_type": "code",
   "execution_count": null,
   "id": "a051a468",
   "metadata": {},
   "outputs": [],
   "source": [
    "# Our task is to compare the two arrays above.\n",
    "# This is achieved throguh the 'pred_table()' method.\n",
    "# The output is called a confusion matrix\n",
    "results_log.pred_table()"
   ]
  },
  {
   "cell_type": "code",
   "execution_count": null,
   "id": "243adacd",
   "metadata": {},
   "outputs": [],
   "source": [
    "# Apply formatting to the confusion matrix, so that it is read more easily\n",
    "cm_df = pd.DataFrame(results_log.pred_table())\n",
    "cm_df.columns = ['Predicted 0', 'Predicted 1']\n",
    "cm_df = cm_df.rename(index={0: 'Actual 0', 1:'Actual 1'})\n",
    "cm_df"
   ]
  },
  {
   "cell_type": "markdown",
   "id": "9b50d7b1",
   "metadata": {},
   "source": [
    "<a href=\"https://365datascience.com/resources-center/offer/?utm_medium=web&utm_source=rs&utm_campaign=web-rs-confusion-matrix-with-statsmodels-in-python&utm_content=confusion-matrix-with-statsmodels-in-python&utm_term=t\">Start your 365 Journey!</a>\n"
   ]
  },
  {
   "cell_type": "code",
   "execution_count": null,
   "id": "fdbfde17",
   "metadata": {},
   "outputs": [],
   "source": []
  }
 ],
 "metadata": {
  "kernelspec": {
   "display_name": "Python 3 (ipykernel)",
   "language": "python",
   "name": "python3"
  },
  "language_info": {
   "codemirror_mode": {
    "name": "ipython",
    "version": 3
   },
   "file_extension": ".py",
   "mimetype": "text/x-python",
   "name": "python",
   "nbconvert_exporter": "python",
   "pygments_lexer": "ipython3",
   "version": "3.9.7"
  }
 },
 "nbformat": 4,
 "nbformat_minor": 5
}
