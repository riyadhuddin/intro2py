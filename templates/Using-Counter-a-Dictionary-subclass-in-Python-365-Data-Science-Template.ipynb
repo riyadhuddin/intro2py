{
 "cells": [
  {
   "cell_type": "markdown",
   "id": "bc229d2b",
   "metadata": {},
   "source": [
    "<hr style=\"border:5px solid #141F31\"> </hr>"
   ]
  },
  {
   "cell_type": "markdown",
   "id": "ad50d91f",
   "metadata": {},
   "source": [
    "# 365 DataScience Using Counter - a dictionary subclass in Python"
   ]
  },
  {
   "cell_type": "markdown",
   "id": "931ef0be",
   "metadata": {},
   "source": [
    "<hr style=\"border:5px solid #141F31\"> </hr>"
   ]
  },
  {
   "cell_type": "markdown",
   "id": "395f00b8",
   "metadata": {},
   "source": [
    "## Step 1 Import the necessary libraries"
   ]
  },
  {
   "cell_type": "code",
   "execution_count": null,
   "id": "c2fac85a",
   "metadata": {},
   "outputs": [],
   "source": [
    "# From the 'collections' module import the 'Counter' class\n",
    "from collections import Counter"
   ]
  },
  {
   "cell_type": "markdown",
   "id": "3292511e",
   "metadata": {},
   "source": [
    "## Step 2 Define the string"
   ]
  },
  {
   "cell_type": "code",
   "execution_count": null,
   "id": "61842084",
   "metadata": {},
   "outputs": [],
   "source": [
    "poem = 'Whenever you\\'re called on to make up your mind, \\\n",
    "and you\\'re hampered by not having any, \\\n",
    "the best way to solve the dilemma, you\\'ll find, \\\n",
    "is simply by spinning a penny. \\\n",
    "No - not so that chance shall decide the affair \\\n",
    "while you\\'re passively standing there moping; \\\n",
    "but the moment the penny is up in the air, \\\n",
    "you suddenly know what you\\'re hoping.'"
   ]
  },
  {
   "cell_type": "markdown",
   "id": "a5a167ff",
   "metadata": {},
   "source": [
    "## Step 3 Explore the 'Counter' class"
   ]
  },
  {
   "cell_type": "code",
   "execution_count": null,
   "id": "48f604b2",
   "metadata": {},
   "outputs": [],
   "source": [
    "# Apply 'Counter' on the 'poem' string.\n",
    "# We get a 'Counter' object that stores the frequencies of each character in the text.\n",
    "# Notice that this operation counts the upper- and lowercase letters separately.\n",
    "print(Counter(poem))"
   ]
  },
  {
   "cell_type": "code",
   "execution_count": null,
   "id": "f84fac4b",
   "metadata": {},
   "outputs": [],
   "source": [
    "# To avoid the counting of upper- and lowercase letters separately, we use the 'lower()' method.\n",
    "# The 'lower()' method turns all letters in the string into lowercase.\n",
    "# Notice the difference with respect to the output from above.\n",
    "print(Counter(poem.lower()))"
   ]
  },
  {
   "cell_type": "markdown",
   "id": "089ed629",
   "metadata": {},
   "source": [
    "## Step 4 Create a dictionary using the 'Counter' class"
   ]
  },
  {
   "cell_type": "code",
   "execution_count": null,
   "id": "54f02072",
   "metadata": {},
   "outputs": [],
   "source": [
    "# What we obtain from the operation below is a 'Counter' object.\n",
    "print(type(Counter(poem.lower())))\n",
    "\n",
    "# We can convert this into an obejct which is more easy to work with.\n",
    "# Let's convert it into a dictionary.\n",
    "new_dict = dict(Counter(poem.lower()))\n",
    "print(type(new_dict))"
   ]
  },
  {
   "cell_type": "markdown",
   "id": "adfd0888",
   "metadata": {},
   "source": [
    "## Step 5 Apply dictionary comprehension"
   ]
  },
  {
   "cell_type": "code",
   "execution_count": null,
   "id": "c54e3ab3",
   "metadata": {},
   "outputs": [],
   "source": [
    "# The problem that we encounter now is that 'Counter' has counted not only the letters, but also the rest\n",
    "# of the characters such as empty spaces, dashes, semi-colons, etc.\n",
    "# If we don't want to count them, we could make use of dictionary comprehension to remove them.\n",
    "# We are left with a dictionary that stores only lowercase letters as keys, and their frequencies as values.\n",
    "new_dict = {k:v for k, v in new_dict.items() if k.isalpha()}\n",
    "print(new_dict)"
   ]
  },
  {
   "cell_type": "markdown",
   "id": "dc7ec00c",
   "metadata": {},
   "source": [
    "<a href=\"https://365datascience.com/resources-center/offer/?utm_medium=web&utm_source=rs&utm_campaign=web-rs-using-counter-a-dictionary-subclass-in-python&utm_content=using-counter-a-dictionary-subclass-in-python&utm_term=t\">Start your 365 Journey!</a>"
   ]
  },
  {
   "cell_type": "code",
   "execution_count": null,
   "id": "694dcc97",
   "metadata": {},
   "outputs": [],
   "source": []
  }
 ],
 "metadata": {
  "kernelspec": {
   "display_name": "Python 3 (ipykernel)",
   "language": "python",
   "name": "python3"
  },
  "language_info": {
   "codemirror_mode": {
    "name": "ipython",
    "version": 3
   },
   "file_extension": ".py",
   "mimetype": "text/x-python",
   "name": "python",
   "nbconvert_exporter": "python",
   "pygments_lexer": "ipython3",
   "version": "3.9.7"
  }
 },
 "nbformat": 4,
 "nbformat_minor": 5
}
