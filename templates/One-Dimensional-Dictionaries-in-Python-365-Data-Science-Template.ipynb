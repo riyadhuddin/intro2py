{
 "cells": [
  {
   "cell_type": "markdown",
   "id": "c955baf1",
   "metadata": {},
   "source": [
    "<hr style=\"border:5px solid #141F31\"> </hr>"
   ]
  },
  {
   "cell_type": "markdown",
   "id": "d090253a",
   "metadata": {},
   "source": [
    "# 365 DataScience One-dimensional dictionaries in Python"
   ]
  },
  {
   "cell_type": "markdown",
   "id": "aae4f1e0",
   "metadata": {},
   "source": [
    "<hr style=\"border:4.5px solid #141F31\"> </hr>"
   ]
  },
  {
   "cell_type": "markdown",
   "id": "c7795c0c",
   "metadata": {},
   "source": [
    "## Step 1 Define a one-dimensional dictionary"
   ]
  },
  {
   "cell_type": "code",
   "execution_count": null,
   "id": "131e4137",
   "metadata": {},
   "outputs": [],
   "source": [
    "# Define a dictionary by creating key:value pairs\n",
    "# Store the countries as keys and their capitals as values\n",
    "capitals = {'France':'Paris', \n",
    "            'Spain':'Madrid',\n",
    "            'Germany':'Berlin', \n",
    "            'Greece':'Athens', \n",
    "            'Bulgaria':'Sofia', \n",
    "            'Ireland':'Dublin', \n",
    "            'Mexico':'Mexico City'}"
   ]
  },
  {
   "cell_type": "markdown",
   "id": "7774be61",
   "metadata": {},
   "source": [
    "## Step 2 Retrieve the keys"
   ]
  },
  {
   "cell_type": "code",
   "execution_count": null,
   "id": "9aa6882a",
   "metadata": {},
   "outputs": [],
   "source": [
    "capitals.keys()"
   ]
  },
  {
   "cell_type": "markdown",
   "id": "04aced24",
   "metadata": {},
   "source": [
    "## Step 3 Retrieve the values"
   ]
  },
  {
   "cell_type": "code",
   "execution_count": null,
   "id": "ddf0fe6e",
   "metadata": {},
   "outputs": [],
   "source": [
    "capitals.values()"
   ]
  },
  {
   "cell_type": "markdown",
   "id": "f0efbad5",
   "metadata": {},
   "source": [
    "## Step 4 Get the value of a specific key"
   ]
  },
  {
   "cell_type": "code",
   "execution_count": null,
   "id": "f4e08738",
   "metadata": {},
   "outputs": [],
   "source": [
    "capitals['Germany']"
   ]
  },
  {
   "cell_type": "markdown",
   "id": "57990424",
   "metadata": {},
   "source": [
    "## Step 5 Create a new key:value pair"
   ]
  },
  {
   "cell_type": "code",
   "execution_count": null,
   "id": "695cf92c",
   "metadata": {},
   "outputs": [],
   "source": [
    "capitals['South Korea'] = 'Seoul'\n",
    "capitals"
   ]
  },
  {
   "cell_type": "markdown",
   "id": "d9d9510a",
   "metadata": {},
   "source": [
    "## Step 6 Loop through the keys in the dictionary"
   ]
  },
  {
   "cell_type": "code",
   "execution_count": null,
   "id": "e17020b4",
   "metadata": {},
   "outputs": [],
   "source": [
    "for country in capitals:\n",
    "    print(country, end = ' ')"
   ]
  },
  {
   "cell_type": "markdown",
   "id": "63429b25",
   "metadata": {},
   "source": [
    "## Step 7 Loop through the keys and values in the dictionary"
   ]
  },
  {
   "cell_type": "code",
   "execution_count": null,
   "id": "a0a45bb1",
   "metadata": {},
   "outputs": [],
   "source": [
    "for country, city in capitals.items():\n",
    "    print(f'The capital of {country} is {city}')"
   ]
  },
  {
   "cell_type": "markdown",
   "id": "6f36dde4",
   "metadata": {},
   "source": [
    "<a href=\"https://365datascience.com/resources-center/offer/?utm_medium=web&utm_source=rs&utm_campaign=web-rs-one-doimensional-dictionaries-in-python&utm_content=-one-doimensional-dictionaries-in-python&utm_term=t\">Start your 365 Journey!</a>"
   ]
  },
  {
   "cell_type": "code",
   "execution_count": null,
   "id": "4e76c64e",
   "metadata": {},
   "outputs": [],
   "source": []
  }
 ],
 "metadata": {
  "kernelspec": {
   "display_name": "Python 3 (ipykernel)",
   "language": "python",
   "name": "python3"
  },
  "language_info": {
   "codemirror_mode": {
    "name": "ipython",
    "version": 3
   },
   "file_extension": ".py",
   "mimetype": "text/x-python",
   "name": "python",
   "nbconvert_exporter": "python",
   "pygments_lexer": "ipython3",
   "version": "3.9.7"
  }
 },
 "nbformat": 4,
 "nbformat_minor": 5
}
