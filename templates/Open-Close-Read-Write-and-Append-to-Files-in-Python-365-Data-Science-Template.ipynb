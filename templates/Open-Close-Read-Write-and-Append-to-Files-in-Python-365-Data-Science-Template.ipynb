{
 "cells": [
  {
   "cell_type": "markdown",
   "id": "c955baf1",
   "metadata": {},
   "source": [
    "<hr style=\"border:5px solid #141F31\"> </hr>"
   ]
  },
  {
   "cell_type": "markdown",
   "id": "d090253a",
   "metadata": {},
   "source": [
    "# 365 DataScience Open, close, read, write and append to files in Python"
   ]
  },
  {
   "cell_type": "markdown",
   "id": "3b055111",
   "metadata": {},
   "source": [
    "<hr style=\"border:5px solid #141F31\"> </hr>"
   ]
  },
  {
   "cell_type": "markdown",
   "id": "b0e77533",
   "metadata": {},
   "source": [
    "## Step 1 Open/Create a file"
   ]
  },
  {
   "cell_type": "code",
   "execution_count": null,
   "id": "1d18a149",
   "metadata": {},
   "outputs": [],
   "source": [
    "# If a file with the specified name does not exist, Python creates a new one with that name.\n",
    "# You can find the file in the same directory as the notebook.\n",
    "# We open the text file in 'write' mode.\n",
    "# Whenever you open a file in 'w' mode, you start writing the file from scratch even if there was information inside.\n",
    "# If you wish to *add* information to the file, then the 'append' mode has to be used instead.\n",
    "# The 'append' mode is discussed later in the notebook.\n",
    "f = open('piet-hein.txt', 'w')"
   ]
  },
  {
   "cell_type": "markdown",
   "id": "8fd96d9e",
   "metadata": {},
   "source": [
    "## Step 2 Write to the file"
   ]
  },
  {
   "cell_type": "code",
   "execution_count": null,
   "id": "8168af05",
   "metadata": {},
   "outputs": [],
   "source": [
    "# Write a poem to the file\n",
    "f.write('Whenever you\\'re called on to make up your mind, \\n\\\n",
    "and you\\'re hampered by not having any, \\n\\\n",
    "the best way to solve the dilemma, you\\'ll find, \\n\\\n",
    "is simply by spinning a penny. \\n\\\n",
    "No - not so that chance shall decide the affair \\n\\\n",
    "while you\\'re passively standing there moping; \\n\\\n",
    "but the moment the penny is up in the air, \\n\\\n",
    "you suddenly know what you\\'re hoping.')"
   ]
  },
  {
   "cell_type": "code",
   "execution_count": null,
   "id": "009afa7b",
   "metadata": {},
   "outputs": [],
   "source": [
    "# It is very important to close the file once you are done manipulating it.\n",
    "# Otherwise, you risk loosing the information that's inside.\n",
    "f.close()"
   ]
  },
  {
   "cell_type": "markdown",
   "id": "dc9fe6e9",
   "metadata": {},
   "source": [
    "## Step 3 Append to the file"
   ]
  },
  {
   "cell_type": "code",
   "execution_count": null,
   "id": "e454c125",
   "metadata": {},
   "outputs": [],
   "source": [
    "# Open the file in 'append' mode\n",
    "f = open('piet-hein.txt', 'a')"
   ]
  },
  {
   "cell_type": "code",
   "execution_count": null,
   "id": "65c49826",
   "metadata": {},
   "outputs": [],
   "source": [
    "# Write the infromation you want to append to the file\n",
    "f.write('\\n\\nA poem by Piet Hein')"
   ]
  },
  {
   "cell_type": "code",
   "execution_count": null,
   "id": "ad6a35b9",
   "metadata": {},
   "outputs": [],
   "source": [
    "# As usual, don't forget to close the file\n",
    "f.close()"
   ]
  },
  {
   "cell_type": "markdown",
   "id": "f819ec7c",
   "metadata": {},
   "source": [
    "## Step 4 Read the file"
   ]
  },
  {
   "cell_type": "code",
   "execution_count": null,
   "id": "8e0ccdd1",
   "metadata": {},
   "outputs": [],
   "source": [
    "# In order to read the file, we need to open it again but this time in 'read' mode\n",
    "f = open('piet-hein.txt', 'r')"
   ]
  },
  {
   "cell_type": "code",
   "execution_count": null,
   "id": "aa577bb0",
   "metadata": {},
   "outputs": [],
   "source": [
    "# Print the text inside the file\n",
    "print(f.read())"
   ]
  },
  {
   "cell_type": "code",
   "execution_count": null,
   "id": "354d0d22",
   "metadata": {},
   "outputs": [],
   "source": [
    "# Don't forget to close the file\n",
    "f.close()"
   ]
  },
  {
   "cell_type": "markdown",
   "id": "bf232649",
   "metadata": {},
   "source": [
    "## Step 5 The preferable way to open files"
   ]
  },
  {
   "cell_type": "code",
   "execution_count": null,
   "id": "2f752638",
   "metadata": {},
   "outputs": [],
   "source": [
    "# It is very common to forget to close a file after using it.\n",
    "# Therefore, the syntax below is the preferable way to open files as they are closed automatically!\n",
    "with open('piet-hein.txt', 'r') as f:\n",
    "    print(f.read())"
   ]
  },
  {
   "cell_type": "markdown",
   "id": "5f3078d7",
   "metadata": {},
   "source": [
    "## Step 6 Read the file line by line"
   ]
  },
  {
   "cell_type": "code",
   "execution_count": null,
   "id": "ce58c760",
   "metadata": {},
   "outputs": [],
   "source": [
    "# Open the file in 'read' mode.\n",
    "# Iterate through the lines in the file and print them out.\n",
    "with open('piet-hein.txt', 'r') as f:\n",
    "    for line in f.readlines():\n",
    "        print(line, end = '')"
   ]
  },
  {
   "cell_type": "markdown",
   "id": "1c2d08bf",
   "metadata": {},
   "source": [
    "<a href=\"https://365datascience.com/resources-center/offer/?utm_medium=web&utm_source=rs&utm_campaign=web-rs-open-close-read-write-and-append-to-files-in-python&utm_content=open-close-read-write-and-append-to-files-in-python&utm_term=t\">Start your 365 Journey!</a>"
   ]
  },
  {
   "cell_type": "code",
   "execution_count": null,
   "id": "2b82cc34",
   "metadata": {},
   "outputs": [],
   "source": []
  }
 ],
 "metadata": {
  "kernelspec": {
   "display_name": "Python 3 (ipykernel)",
   "language": "python",
   "name": "python3"
  },
  "language_info": {
   "codemirror_mode": {
    "name": "ipython",
    "version": 3
   },
   "file_extension": ".py",
   "mimetype": "text/x-python",
   "name": "python",
   "nbconvert_exporter": "python",
   "pygments_lexer": "ipython3",
   "version": "3.9.7"
  }
 },
 "nbformat": 4,
 "nbformat_minor": 5
}
