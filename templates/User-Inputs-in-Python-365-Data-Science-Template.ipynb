{
 "cells": [
  {
   "cell_type": "markdown",
   "id": "4210671e",
   "metadata": {},
   "source": [
    "<hr style=\"border:5px solid #141F31\"> </hr>"
   ]
  },
  {
   "cell_type": "markdown",
   "id": "c6f84f9f",
   "metadata": {},
   "source": [
    "# 365 DataScience User inputs in Python"
   ]
  },
  {
   "cell_type": "markdown",
   "id": "33bc0a4c",
   "metadata": {},
   "source": [
    "<hr style=\"border:5px solid #141F31\"> </hr>"
   ]
  },
  {
   "cell_type": "markdown",
   "id": "96bc7053",
   "metadata": {},
   "source": [
    "## Step 1 Ask the user for a string input"
   ]
  },
  {
   "cell_type": "code",
   "execution_count": null,
   "id": "1feda8e6",
   "metadata": {},
   "outputs": [],
   "source": [
    "# Ask the user to input their name.\n",
    "# '\\n' puts '>>> ' on a new line\n",
    "user_name = input('What is your name?\\n>>> ')"
   ]
  },
  {
   "cell_type": "code",
   "execution_count": null,
   "id": "7854acc2",
   "metadata": {},
   "outputs": [],
   "source": [
    "# The 'user_name' variable is of a string type.\n",
    "type(user_name)"
   ]
  },
  {
   "cell_type": "markdown",
   "id": "322d94df",
   "metadata": {},
   "source": [
    "## Step 2 Ask the user for an integer input"
   ]
  },
  {
   "cell_type": "code",
   "execution_count": null,
   "id": "400f842c",
   "metadata": {},
   "outputs": [],
   "source": [
    "# Convert the string input to an integer\n",
    "user_age = int(input('How old are you?\\n>>> '))"
   ]
  },
  {
   "cell_type": "code",
   "execution_count": null,
   "id": "0dc14ce7",
   "metadata": {},
   "outputs": [],
   "source": [
    "# The 'user_age' variable is of an integer type.\n",
    "type(user_age)"
   ]
  },
  {
   "cell_type": "markdown",
   "id": "ce2c8dad",
   "metadata": {},
   "source": [
    "<a href=\"https://365datascience.com/resources-center/offer/?utm_medium=web&utm_source=rs&utm_campaign=web-rs-user-inputs-in-python%20&utm_content=user-inputs-in-python&utm_term=t\">Start your 365 Journey!</a>"
   ]
  },
  {
   "cell_type": "code",
   "execution_count": null,
   "id": "c4c30499",
   "metadata": {},
   "outputs": [],
   "source": []
  }
 ],
 "metadata": {
  "kernelspec": {
   "display_name": "Python 3 (ipykernel)",
   "language": "python",
   "name": "python3"
  },
  "language_info": {
   "codemirror_mode": {
    "name": "ipython",
    "version": 3
   },
   "file_extension": ".py",
   "mimetype": "text/x-python",
   "name": "python",
   "nbconvert_exporter": "python",
   "pygments_lexer": "ipython3",
   "version": "3.9.7"
  }
 },
 "nbformat": 4,
 "nbformat_minor": 5
}
