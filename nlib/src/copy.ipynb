{
 "cells": [
  {
   "cell_type": "code",
   "execution_count": 1,
   "metadata": {},
   "outputs": [],
   "source": [
    "import numpy as n\n",
    "import os\n",
    "import sys\n",
    "import shutil\n",
    "import time\n",
    "import datetime\n",
    "import subprocess\n",
    "import re\n",
    "import glob"
   ]
  },
  {
   "cell_type": "code",
   "execution_count": 2,
   "metadata": {},
   "outputs": [],
   "source": [
    "import tensorflow as tf"
   ]
  },
  {
   "cell_type": "code",
   "execution_count": 3,
   "metadata": {},
   "outputs": [],
   "source": [
    "# write a function to gerate image files\n",
    "def gen_image_files(image_dir, image_name, image_ext, image_size, image_count):\n",
    "    if not os.path.exists(image_dir):\n",
    "        os.makedirs(image_dir)\n",
    "    for i in range(image_count):\n",
    "        image_file = os.path.join(image_dir, image_name + str(i) + image_ext)\n",
    "        image_data = n.random.rand(image_size, image_size, 3)\n",
    "        image_data = n.uint8(image_data * 255)\n",
    "        image_data = n.transpose(image_data, (1, 0, 2))\n",
    "        image_data = image_data.tobytes()\n",
    "        with open(image_file, 'wb') as f:\n",
    "            f.write(image_data)\n",
    "            "
   ]
  },
  {
   "cell_type": "code",
   "execution_count": 4,
   "metadata": {},
   "outputs": [],
   "source": [
    "gen_image_files('images', 'image', '.jpg', 100, 10)"
   ]
  },
  {
   "cell_type": "code",
   "execution_count": 5,
   "metadata": {},
   "outputs": [],
   "source": [
    "#write a function to generate image with text on it\n",
    "def gen_image_with_text(image_dir, image_name, image_ext, image_size, image_count, text):\n",
    "    if not os.path.exists(image_dir):\n",
    "        os.makedirs(image_dir)\n",
    "    for i in range(image_count):\n",
    "        image_file = os.path.join(image_dir, image_name + str(i) + image_ext)\n",
    "        image_data = n.random.rand(image_size, image_size, 3)\n",
    "        image_data = n.uint8(image_data * 255)\n",
    "        image_data = n.transpose(image_data, (1, 0, 2))\n",
    "        image_data = image_data.tobytes()\n",
    "        with open(image_file, 'wb') as f:\n",
    "            f.write(image_data)\n",
    "        with open(image_file, 'a') as f:\n",
    "            f.write(text)"
   ]
  },
  {
   "cell_type": "code",
   "execution_count": 12,
   "metadata": {},
   "outputs": [],
   "source": [
    "gen_image_with_text('images', 'image', '.jpg', 100, 10, '\\nThis is a test')"
   ]
  },
  {
   "cell_type": "code",
   "execution_count": 7,
   "metadata": {},
   "outputs": [],
   "source": [
    "#write a function to generate image with custom icon on it\n",
    "def gen_image_with_icon(image_dir, image_name, image_ext, image_size, image_count, icon_file):\n",
    "    if not os.path.exists(image_dir):\n",
    "        os.makedirs(image_dir)\n",
    "    for i in range(image_count):\n",
    "        image_file = os.path.join(image_dir, image_name + str(i) + image_ext)\n",
    "        image_data = n.random.rand(image_size, image_size, 3)\n",
    "        image_data = n.uint8(image_data * 255)\n",
    "        image_data = n.transpose(image_data, (1, 0, 2))\n",
    "        image_data = image_data.tobytes()\n",
    "        with open(image_file, 'wb') as f:\n",
    "            f.write(image_data)\n",
    "        shutil.copy(icon_file, image_file)"
   ]
  },
  {
   "cell_type": "code",
   "execution_count": 19,
   "metadata": {},
   "outputs": [],
   "source": [
    "gen_image_with_icon('images', 'image', '.jpg', 100, 10, 'icon.png')"
   ]
  },
  {
   "cell_type": "code",
   "execution_count": 14,
   "metadata": {},
   "outputs": [],
   "source": [
    "#write a function to read images from a directory and generate random images with those images\n",
    "def gen_random_images(image_dir, image_name, image_ext, image_size, image_count):\n",
    "    if not os.path.exists(image_dir):\n",
    "        os.makedirs(image_dir)\n",
    "    for i in range(image_count):\n",
    "        image_file = os.path.join(image_dir, image_name + str(i) + image_ext)\n",
    "        image_data = n.random.rand(image_size, image_size, 3)\n",
    "        image_data = n.uint8(image_data * 255)\n",
    "        image_data = n.transpose(image_data, (1, 0, 2))\n",
    "        image_data = image_data.tobytes()\n",
    "        with open(image_file, 'wb') as f:\n",
    "            f.write(image_data)"
   ]
  },
  {
   "cell_type": "code",
   "execution_count": 18,
   "metadata": {},
   "outputs": [],
   "source": [
    "gen_random_images('images/', 'image', '.jpg', 100, 10)"
   ]
  },
  {
   "cell_type": "code",
   "execution_count": 21,
   "metadata": {},
   "outputs": [],
   "source": [
    "#write a function to doodle on image\n",
    "def doodle_image(image_dir, image_name, image_ext, image_size, image_count, doodle_size):\n",
    "    if not os.path.exists(image_dir):\n",
    "        os.makedirs(image_dir)\n",
    "    for i in range(image_count):\n",
    "        image_file = os.path.join(image_dir, image_name + str(i) + image_ext)\n",
    "        image_data = n.random.rand(image_size, image_size, 3)\n",
    "        image_data = n.uint8(image_data * 255)\n",
    "        image_data = n.transpose(image_data, (1, 0, 2))\n",
    "        image_data = image_data.tobytes()\n",
    "        with open(image_file, 'wb') as f:\n",
    "            f.write(image_data)\n",
    "        image_data = n.random.rand(doodle_size, doodle_size, 3)\n",
    "        image_data = n.uint8(image_data * 255)\n",
    "        image_data = n.transpose(image_data, (1, 0, 2))\n",
    "        image_data = image_data.tobytes()\n",
    "        with open(image_file, 'ab') as f:\n",
    "            f.write(image_data)"
   ]
  },
  {
   "cell_type": "code",
   "execution_count": 22,
   "metadata": {},
   "outputs": [],
   "source": [
    "doodle_image('images/', 'image', '.jpg', 100, 10, 10)"
   ]
  }
 ],
 "metadata": {
  "interpreter": {
   "hash": "8fac594bfae6525c0c41b4041d2d72effa188cc8ead05f81b1fab2bb098927fb"
  },
  "kernelspec": {
   "display_name": "Python 3.9.7 64-bit ('base': conda)",
   "language": "python",
   "name": "python3"
  },
  "language_info": {
   "codemirror_mode": {
    "name": "ipython",
    "version": 3
   },
   "file_extension": ".py",
   "mimetype": "text/x-python",
   "name": "python",
   "nbconvert_exporter": "python",
   "pygments_lexer": "ipython3",
   "version": "3.9.7"
  },
  "orig_nbformat": 4
 },
 "nbformat": 4,
 "nbformat_minor": 2
}
