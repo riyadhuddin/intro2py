{
 "cells": [
  {
   "cell_type": "markdown",
   "id": "c955baf1",
   "metadata": {},
   "source": [
    "<hr style=\"border:5px solid #141F31\"> </hr>"
   ]
  },
  {
   "cell_type": "markdown",
   "id": "d090253a",
   "metadata": {},
   "source": [
    "# 365 DataScience Converting a color image to grayscale with PIL in Python"
   ]
  },
  {
   "cell_type": "markdown",
   "id": "aae4f1e0",
   "metadata": {},
   "source": [
    "<hr style=\"border:4.5px solid #141F31\"> </hr>"
   ]
  },
  {
   "cell_type": "markdown",
   "id": "7c583ced",
   "metadata": {},
   "source": [
    "## Step 1 Import the necessary libraries"
   ]
  },
  {
   "cell_type": "code",
   "execution_count": null,
   "id": "30f5fc47",
   "metadata": {},
   "outputs": [],
   "source": [
    "from PIL import Image\n",
    "from matplotlib.pyplot import imshow"
   ]
  },
  {
   "cell_type": "markdown",
   "id": "ea53d012",
   "metadata": {},
   "source": [
    "## Step 2 Open and display the image"
   ]
  },
  {
   "cell_type": "code",
   "execution_count": null,
   "id": "b73d5a9a",
   "metadata": {},
   "outputs": [],
   "source": [
    "# Store the name of the file as a variable\n",
    "file_name = 'landscape.jpg'\n",
    "\n",
    "# Open the image and show it on the screen.\n",
    "# Note that the image needs to be in the same folder as your notebook.\n",
    "im = Image.open(file_name)\n",
    "imshow(im)"
   ]
  },
  {
   "cell_type": "markdown",
   "id": "80a9aaa7",
   "metadata": {},
   "source": [
    "## Step 3 Convert the image to grayscale"
   ]
  },
  {
   "cell_type": "code",
   "execution_count": null,
   "id": "56eccd6d",
   "metadata": {},
   "outputs": [],
   "source": [
    "# Convert the image to grayscale by indicating the appropriate mode.\n",
    "# All convertion modes can be found in the PIL library documentation:\n",
    "# https://pillow.readthedocs.io/en/stable/handbook/concepts.html#concept-modes\n",
    "grayscale = im.convert('LA')\n",
    "imshow(grayscale)"
   ]
  },
  {
   "cell_type": "markdown",
   "id": "26500de2",
   "metadata": {},
   "source": [
    "<a href=\"https://365datascience.com/resources-center/offer/?utm_medium=web&utm_source=rs&utm_campaign=web-rs-converting-a-color-image-to-grayscale-with-pil-in-python&utm_content=converting-a-color-image-to-grayscale-with-pil-in-python&utm_term=t\">Start your 365 Journey!</a>"
   ]
  },
  {
   "cell_type": "code",
   "execution_count": null,
   "id": "3789bbc0",
   "metadata": {},
   "outputs": [],
   "source": []
  }
 ],
 "metadata": {
  "kernelspec": {
   "display_name": "Python 3 (ipykernel)",
   "language": "python",
   "name": "python3"
  },
  "language_info": {
   "codemirror_mode": {
    "name": "ipython",
    "version": 3
   },
   "file_extension": ".py",
   "mimetype": "text/x-python",
   "name": "python",
   "nbconvert_exporter": "python",
   "pygments_lexer": "ipython3",
   "version": "3.9.7"
  }
 },
 "nbformat": 4,
 "nbformat_minor": 5
}
