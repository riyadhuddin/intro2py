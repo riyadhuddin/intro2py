{
 "cells": [
  {
   "cell_type": "markdown",
   "id": "4210671e",
   "metadata": {},
   "source": [
    "<hr style=\"border:5px solid #141F31\"> </hr>"
   ]
  },
  {
   "cell_type": "markdown",
   "id": "c6f84f9f",
   "metadata": {},
   "source": [
    "# 365 DataScience True and False in Python"
   ]
  },
  {
   "cell_type": "markdown",
   "id": "33bc0a4c",
   "metadata": {},
   "source": [
    "<hr style=\"border:5px solid #141F31\"> </hr>"
   ]
  },
  {
   "cell_type": "markdown",
   "id": "30f48729",
   "metadata": {},
   "source": [
    "## Step 1 Combine Boolean expressions with the logical operator 'and'"
   ]
  },
  {
   "cell_type": "markdown",
   "id": "a5bc8e7e",
   "metadata": {},
   "source": [
    "If either of the expressions is False, the line will return False."
   ]
  },
  {
   "cell_type": "code",
   "execution_count": null,
   "id": "d8eb1ddb",
   "metadata": {},
   "outputs": [],
   "source": [
    "True and True"
   ]
  },
  {
   "cell_type": "code",
   "execution_count": null,
   "id": "9befbc24",
   "metadata": {},
   "outputs": [],
   "source": [
    "True and False"
   ]
  },
  {
   "cell_type": "code",
   "execution_count": null,
   "id": "72809efe",
   "metadata": {},
   "outputs": [],
   "source": [
    "False and False"
   ]
  },
  {
   "cell_type": "markdown",
   "id": "c5f5c96a",
   "metadata": {},
   "source": [
    "## Step 2 Combine Boolean expressions with the logical operator 'or'"
   ]
  },
  {
   "cell_type": "markdown",
   "id": "0346558c",
   "metadata": {},
   "source": [
    "If either of the expressions is True, the line will return True."
   ]
  },
  {
   "cell_type": "code",
   "execution_count": null,
   "id": "33d4f52c",
   "metadata": {},
   "outputs": [],
   "source": [
    "True or True"
   ]
  },
  {
   "cell_type": "code",
   "execution_count": null,
   "id": "0f1d456c",
   "metadata": {},
   "outputs": [],
   "source": [
    "True or False"
   ]
  },
  {
   "cell_type": "code",
   "execution_count": null,
   "id": "d4a5e0b6",
   "metadata": {},
   "outputs": [],
   "source": [
    "False or False"
   ]
  },
  {
   "cell_type": "markdown",
   "id": "5d8ce936",
   "metadata": {},
   "source": [
    "## Step 3 The 'not' keyword"
   ]
  },
  {
   "cell_type": "markdown",
   "id": "fd4b5418",
   "metadata": {},
   "source": [
    "The 'not' keyword negates the result of the condition."
   ]
  },
  {
   "cell_type": "code",
   "execution_count": null,
   "id": "8845d183",
   "metadata": {},
   "outputs": [],
   "source": [
    "not True"
   ]
  },
  {
   "cell_type": "code",
   "execution_count": null,
   "id": "5714aa3d",
   "metadata": {},
   "outputs": [],
   "source": [
    "not False"
   ]
  },
  {
   "cell_type": "markdown",
   "id": "48503508",
   "metadata": {},
   "source": [
    "## Step 4 Combining logical operators"
   ]
  },
  {
   "cell_type": "markdown",
   "id": "33a8dde2",
   "metadata": {},
   "source": [
    "Just as there is an order of the operations in a mathematical expression, there is a similar hierarchy in programming. In maths, dealing with parentheses comes first, then comes multiplication/division and only then do we perform addition/subtraction. The hierarchy of the logical operators in programming is as follows:\n",
    "* First comes 'not'\n",
    "* Then comes 'and'\n",
    "* Finally comes 'or'\n",
    "\n",
    "In the example below, we first evaluate 'not False' to 'True', so the expression becomes:$\\newline$\n",
    "$\\text{True and False or True} \\newline$\n",
    "Next comes 'True and False' which evaluates to 'False', so the expression reduces to$\\newline$\n",
    "$\\text{False or True} \\newline$\n",
    "Finally, the 'or' operator applied to 'True' and 'False' gives 'True' and this is the output we see on the screen."
   ]
  },
  {
   "cell_type": "code",
   "execution_count": null,
   "id": "35b60212",
   "metadata": {},
   "outputs": [],
   "source": [
    "True and False or not False"
   ]
  },
  {
   "cell_type": "markdown",
   "id": "0a8d8f12",
   "metadata": {},
   "source": [
    "<a href=\"https://365datascience.com/resources-center/offer/?utm_medium=web&utm_source=rs&utm_campaign=web-rs-true-and-false-in-python&utm_content=true-and-false-in-python\">Start your 365 Journey!</a>"
   ]
  },
  {
   "cell_type": "code",
   "execution_count": null,
   "id": "2d84f938",
   "metadata": {},
   "outputs": [],
   "source": []
  }
 ],
 "metadata": {
  "kernelspec": {
   "display_name": "Python 3 (ipykernel)",
   "language": "python",
   "name": "python3"
  },
  "language_info": {
   "codemirror_mode": {
    "name": "ipython",
    "version": 3
   },
   "file_extension": ".py",
   "mimetype": "text/x-python",
   "name": "python",
   "nbconvert_exporter": "python",
   "pygments_lexer": "ipython3",
   "version": "3.9.7"
  }
 },
 "nbformat": 4,
 "nbformat_minor": 5
}
