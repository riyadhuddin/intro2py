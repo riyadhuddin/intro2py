{
 "cells": [
  {
   "cell_type": "markdown",
   "metadata": {
    "pycharm": {
     "name": "#%% md\n"
    }
   },
   "source": [
    "# <span style=\"color: Skyblue;\"> <b> Don't know why but I love revisiting my each skills atleast once during every year October, November </span> "
   ]
  },
  {
   "cell_type": "markdown",
   "metadata": {
    "collapsed": true,
    "pycharm": {
     "name": "#%% md\n"
    }
   },
   "source": [
    "<b> This python repo is the result of doing so. Use this for programming Education purposes only. Some info used here may not be accurate as they are used from wiki and they keep changing. Also, numbers are imaginary and did not use any ranking or titles to our national heroes. As ranking does not matter to them, they are most loved and respected. But please if you find anything inappropriate remembers to issue your comment."
   ]
  },
  {
   "cell_type": "markdown",
   "metadata": {},
   "source": [
    "<span style=\"color: maroon;\">Variable holds data/value for further actions. Variable name can't start with number and symbol except underscore.\n",
    "Variable name should be meaningful and value can be fixed, changeable such as we can add,remove and reassign them.</span> "
   ]
  },
  {
   "cell_type": "code",
   "execution_count": 7,
   "metadata": {},
   "outputs": [
    {
     "name": "stdout",
     "output_type": "stream",
     "text": [
      "1971\n"
     ]
    }
   ],
   "source": [
    "bd_lib = 1971 #int type variable can't have fractrion\n",
    "print(bd_lib)"
   ]
  },
  {
   "cell_type": "code",
   "execution_count": 8,
   "metadata": {},
   "outputs": [
    {
     "data": {
      "text/plain": [
       "8.2"
      ]
     },
     "execution_count": 8,
     "metadata": {},
     "output_type": "execute_result"
    }
   ],
   "source": [
    "war_mdays = 8.20 #float type variable\n",
    "war_mdays"
   ]
  },
  {
   "cell_type": "code",
   "execution_count": 10,
   "metadata": {},
   "outputs": [
    {
     "name": "stdout",
     "output_type": "stream",
     "text": [
      "Bangladesh is winner: True\n"
     ]
    }
   ],
   "source": [
    "country_name = \"Bangladesh\" #string type variable, can use single/multi quote\n",
    "East_pak = 1 #boolean type\n",
    "West_pak = 0\n",
    "winner = East_pak > West_pak # 1 is greater than 0 so it return True which is boolean\n",
    "print(\"Bangladesh is winner:\",winner)"
   ]
  },
  {
   "cell_type": "code",
   "execution_count": 37,
   "metadata": {},
   "outputs": [
    {
     "data": {
      "text/plain": [
       "[1, 2, 3, 4, 5, 6, 7, 8, 9, 10, 11]"
      ]
     },
     "execution_count": 37,
     "metadata": {},
     "output_type": "execute_result"
    }
   ],
   "source": [
    "list_sec = [1,2,3,4,5,6,7,8,9,10,11] # list type\n",
    "list_sec"
   ]
  },
  {
   "cell_type": "code",
   "execution_count": 12,
   "metadata": {},
   "outputs": [
    {
     "data": {
      "text/plain": [
       "('Harina',\n",
       " 'Melaghar',\n",
       " 'Sreemangal',\n",
       " 'Karimganj',\n",
       " 'Banshtola',\n",
       " 'Burimari',\n",
       " 'Tarangpur ',\n",
       " 'Benapole',\n",
       " 'Hasnabad',\n",
       " 'Naval',\n",
       " 'Teldhala')"
      ]
     },
     "execution_count": 12,
     "metadata": {},
     "output_type": "execute_result"
    }
   ],
   "source": [
    "tuple_sec_hq = ('Harina','Melaghar','Sreemangal','Karimganj','Banshtola','Burimari','Tarangpur ','Benapole','Hasnabad','Naval','Teldhala')#tuple type\n",
    "tuple_sec_hq"
   ]
  },
  {
   "cell_type": "code",
   "execution_count": 13,
   "metadata": {},
   "outputs": [
    {
     "data": {
      "text/plain": [
       "'West Pakistan was defeated with the allied help from india, And renamed as Bangladesh'"
      ]
     },
     "execution_count": 13,
     "metadata": {},
     "output_type": "execute_result"
    }
   ],
   "source": [
    "lib_outcome = 'West Pakistan was defeated with the allied help from india, And renamed as Bangladesh'\n",
    "init_war_cmd_dict = {'Sector':'Sector Commander',\n",
    "                     '1':['Maj Ziaur Rahman','Captain Rafiqul Islam'],\n",
    "                     '2':['Major Khaled Mosharraf','Major ATM Haider'],\n",
    "                     '3':['Major K. M. Shafiullah','Captain A. N. M. Nuruzzaman'],\n",
    "                     '4':['Major Chitta Ranjan Dutta','Captain A Rob'],\n",
    "                     '5':' Major Mir Shawkat Ali',\n",
    "                     '6':'Wing Commander M Khademul Bashar',\n",
    "                     '7':['Major Nazmul Huq','Major Quazi nooruzzaman'],\n",
    "                     '8':['Major Abu Osman Chowdhury',' Major Abul Manzoor'],\n",
    "                     '9':['Major M. A. Jalil','Major MA Manzur','Major Joynal Abedin '],\n",
    "                     '10':'Commander HQ BD Forces ','11':'Major Abu Taher'} # dictionary type consisting of key, value pair, multiple or single value for a key is reasonable\n",
    "lib_outcome"
   ]
  },
  {
   "cell_type": "code",
   "execution_count": 14,
   "metadata": {},
   "outputs": [
    {
     "data": {
      "text/plain": [
       "{'Sector': 'Sector Commander',\n",
       " '1': ['Maj Ziaur Rahman', 'Captain Rafiqul Islam'],\n",
       " '2': ['Major Khaled Mosharraf', 'Major ATM Haider'],\n",
       " '3': ['Major K. M. Shafiullah', 'Captain A. N. M. Nuruzzaman'],\n",
       " '4': ['Major Chitta Ranjan Dutta', 'Captain A Rob'],\n",
       " '5': ' Major Mir Shawkat Ali',\n",
       " '6': 'Wing Commander M Khademul Bashar',\n",
       " '7': ['Major Nazmul Huq', 'Major Quazi nooruzzaman'],\n",
       " '8': ['Major Abu Osman Chowdhury', ' Major Abul Manzoor'],\n",
       " '9': ['Major M. A. Jalil', 'Major MA Manzur', 'Major Joynal Abedin '],\n",
       " '10': 'Commander HQ BD Forces ',\n",
       " '11': 'Major Abu Taher'}"
      ]
     },
     "execution_count": 14,
     "metadata": {},
     "output_type": "execute_result"
    }
   ],
   "source": [
    "init_war_cmd_dict"
   ]
  },
  {
   "cell_type": "code",
   "execution_count": 15,
   "metadata": {},
   "outputs": [],
   "source": [
    "East_pakistan = West_pakistan = \"Pakistan\" #shared same Name value during 1947-1971\n",
    "East_pakistanR, West_pakistanR, indiaR = 1,0.9,0.4 # possitive reward for action\n",
    "muscleX = \"Muscle deployed in Year: {year} Bangladesh:{} Pakistan:{} India: {}\""
   ]
  },
  {
   "cell_type": "code",
   "execution_count": 16,
   "metadata": {},
   "outputs": [],
   "source": [
    "def basic_reward():\n",
    "    #East_pakistanR, West_pakistanR, indiaR = 1,0.9,0.4 ##local variable ex\n",
    "    # possitive reward for action\n",
    "    print(muscleX.format(East_pakistanR, West_pakistanR, indiaR, year=bd_lib))"
   ]
  },
  {
   "cell_type": "code",
   "execution_count": 17,
   "metadata": {},
   "outputs": [],
   "source": [
    "def military_casualities(): # all numbers are imaginary\n",
    "    east_c = 4500\n",
    "    west_c = 1000\n",
    "    ind_c = 200\n",
    "    p_east,p_west,p_ind = east_c*8.2,west_c*8.20,ind_c*13\n",
    "    p_east_g = int((p_east/3) ** 1.6) * 0.9 * 0.96 #the equation of dumb :p\n",
    "    print(\"{:-^80s}\".format(\"This numbers are imaginary, so please don't misread me\"))\n",
    "    print(\"Bangladesh Military casualities:{}\".format(p_east))\n",
    "    print(\"Pakistani casualites: {}\".format(p_west))\n",
    "    print(\"Indian casualties: {}\".format(p_ind))\n",
    "    print(\"Total Military Casualities: {}\".format(p_east+p_ind+p_west))\n",
    "    print(\"Bangladesh Total casualities:{: ^15}\".format(int(p_east_g)))"
   ]
  },
  {
   "cell_type": "code",
   "execution_count": 18,
   "metadata": {},
   "outputs": [],
   "source": [
    "def war_data():\n",
    "    bd_flag = '7aC87ben7aC87bep'#base64\n",
    "    print(\"{:-^100s}\".format(\"Information About 1971 War\"))\n",
    "    print(country_name)\n",
    "    print(lib_outcome)\n",
    "#default"
   ]
  },
  {
   "cell_type": "code",
   "execution_count": 19,
   "metadata": {
    "pycharm": {
     "name": "#%%\n"
    }
   },
   "outputs": [],
   "source": [
    "# \"\"\" Comment out to write python scripts or to implement your custom code, CTRL+A and then CTRL+/ \"\"\"\n",
    "# %%writefile scripts/basics.py\n",
    "# import base64\n",
    "# bd_lib = 1971 #int type variable can't have fractrion\n",
    "# war_mdays = 8.20 #float type variable\n",
    "# country_name = \"Bangladesh\" #string type variable, can use single/multi quote\n",
    "# East_pak = True #boolean type\n",
    "# West_pak = False\n",
    "# winner = East_pak > West_pak\n",
    "# list_sec = ['1','2','3','4','5','6','7','8','9','10','11'] # list type\n",
    "# tuple_sec_hq = ('Harina','Melaghar','Sreemangal','Karimganj','Banshtola','Burimari','Tarangpur ','Benapole','Hasnabad','Naval','Teldhala')#tuple type\n",
    "# lib_outcome = 'West Pakistan was defeated with the allied help from india, And renamed as Bangladesh'\n",
    "# init_war_cmd_dict = {'Sector':'Sector Commander',\n",
    "#                      '1':['Maj Ziaur Rahman','Captain Rafiqul Islam'],\n",
    "#                      '2':['Major Khaled Mosharraf','Major ATM Haider'],\n",
    "#                      '3':['Major K. M. Shafiullah','Captain A. N. M. Nuruzzaman'],\n",
    "#                      '4':['Major Chitta Ranjan Dutta','Captain A Rob'],\n",
    "#                      '5':' Major Mir Shawkat Ali',\n",
    "#                      '6':'Wing Commander M Khademul Bashar',\n",
    "#                      '7':['Major Nazmul Huq','Major Quazi nooruzzaman'],\n",
    "#                      '8':['Major Abu Osman Chowdhury',' Major Abul Manzoor'],\n",
    "#                      '9':['Major M. A. Jalil','Major MA Manzur','Major Joynal Abedin '],\n",
    "#                      '10':'Commander HQ BD Forces ','11':'Major Abu Taher'} # dictionary type consisting of key, value pair, multiple or single value for a key is reasonable\n",
    "\n",
    "# East_pakistan = West_pakistan = india = 0 #initialize reward value of ther war with zero to all\n",
    "# East_pakistanR, West_pakistanR, indiaR = 1,0.9,0.4 # possitive reward for action\n",
    "# muscleX = \"Muscle deployed in Year: {year} Bangladesh:{} Pakistan:{} India: {}\"\n",
    "# def basic_reward():\n",
    "#     #East_pakistanR, West_pakistanR, indiaR = 1,0.9,0.4 ##local variable ex\n",
    "#     # possitive reward for action\n",
    "#     print(muscleX.format(East_pakistanR, West_pakistanR, indiaR, year=bd_lib))\n",
    "# def military_casualities(): # all numbers are imaginary\n",
    "#     east_c = 4500\n",
    "#     west_c = 1000\n",
    "#     ind_c = 200\n",
    "#     p_east,p_west,p_ind = east_c*8.2,west_c*8.20,ind_c*13\n",
    "#     p_east_g = int((p_east/3) ** 1.6) * 0.9 * 0.96 #the equation of dumb :p\n",
    "#     print(\"{:-^80s}\".format(\"This numbers are imaginary, so please don't misread me\"))\n",
    "#     print(\"Bangladesh Military casualities:{}\".format(p_east))\n",
    "#     print(\"Pakistani casualites: {}\".format(p_west))\n",
    "#     print(\"Indian casualties: {}\".format(p_ind))\n",
    "#     print(\"Total Military Casualities: {}\".format(p_east+p_ind+p_west))\n",
    "#     print(\"Bangladesh Total casualities:{: ^15}\".format(int(p_east_g)))\n",
    "# def war_data():\n",
    "#     bd_flag = '7aC87ben7aC87bep'#base64\n",
    "#     print(\"{:-^100s}\".format(\"Information About 1971 War\"))\n",
    "#     print(country_name)\n",
    "#     print(lib_outcome)\n",
    "# #default"
   ]
  },
  {
   "cell_type": "code",
   "execution_count": 30,
   "metadata": {},
   "outputs": [
    {
     "data": {
      "text/plain": [
       "['Mohiuddin Jahangir',\n",
       " 'Hamidur Rahman',\n",
       " 'Muhammad Mustafa Kamal',\n",
       " 'Mohammad Ruhul Amin']"
      ]
     },
     "execution_count": 30,
     "metadata": {},
     "output_type": "execute_result"
    }
   ],
   "source": [
    "valiant_hero = ['Mohiuddin Jahangir', 'Hamidur Rahman','Muhammad Mustafa Kamal','Mohammad Ruhul Amin','Flight Lieutenant Matiur Rahman','Munshi Abdur Rouf','Noor Mohammad Sheikh']\n",
    "valiant_hero[0:4]#index slicing"
   ]
  },
  {
   "cell_type": "markdown",
   "metadata": {},
   "source": [
    "<span style=\"color: green;\"><b>Please add by yourself and incase pr me I will merge here</span> \n",
    "1. Bir Uttom\n",
    "2. Bir Bikrom\n",
    "3. Bir Protik"
   ]
  },
  {
   "cell_type": "code",
   "execution_count": 29,
   "metadata": {},
   "outputs": [
    {
     "data": {
      "text/plain": [
       "['Captain Mohiuddin Jahangir', 'Hamidur Rahman']"
      ]
     },
     "execution_count": 29,
     "metadata": {},
     "output_type": "execute_result"
    }
   ],
   "source": [
    "valiant_hero[0]= 'Captain Mohiuddin Jahangir' # replace value\n",
    "valiant_hero[0:2]"
   ]
  },
  {
   "cell_type": "code",
   "execution_count": 35,
   "metadata": {},
   "outputs": [
    {
     "data": {
      "text/plain": [
       "['Harina',\n",
       " 'Melaghar',\n",
       " 'Sreemangal',\n",
       " 'Karimganj',\n",
       " 'Banshtola',\n",
       " 'Burimari',\n",
       " 'Tarangpur ',\n",
       " 'Benapole',\n",
       " 'Hasnabad',\n",
       " 'Naval',\n",
       " 'Teldhala']"
      ]
     },
     "execution_count": 35,
     "metadata": {},
     "output_type": "execute_result"
    }
   ],
   "source": [
    "list_sec_hq =  [sect for sect in tuple_sec_hq if sect != 'Dhaka']\n",
    "list_sec_hq"
   ]
  },
  {
   "cell_type": "code",
   "execution_count": 40,
   "metadata": {},
   "outputs": [
    {
     "data": {
      "text/plain": [
       "[0, 2, 4, 6, 8, 10]"
      ]
     },
     "execution_count": 40,
     "metadata": {},
     "output_type": "execute_result"
    }
   ],
   "source": [
    "sect_list = [x for x in range (11) if x % 2 == 0]\n",
    "sect_list"
   ]
  },
  {
   "cell_type": "code",
   "execution_count": 56,
   "metadata": {},
   "outputs": [
    {
     "data": {
      "text/plain": [
       "'a'"
      ]
     },
     "execution_count": 56,
     "metadata": {},
     "output_type": "execute_result"
    }
   ],
   "source": [
    "# for x in country_name:\n",
    "#     w_country_name.append('people republic of Bangladesh')\n",
    "w_country_name = []\n",
    "w_country_name = country_name\n",
    "w_country_name[]"
   ]
  },
  {
   "cell_type": "code",
   "execution_count": null,
   "metadata": {},
   "outputs": [],
   "source": []
  }
 ],
 "metadata": {
  "kernelspec": {
   "display_name": "Python 3",
   "language": "python",
   "name": "python3"
  },
  "language_info": {
   "codemirror_mode": {
    "name": "ipython",
    "version": 3
   },
   "file_extension": ".py",
   "mimetype": "text/x-python",
   "name": "python",
   "nbconvert_exporter": "python",
   "pygments_lexer": "ipython3",
   "version": "3.7.4"
  }
 },
 "nbformat": 4,
 "nbformat_minor": 1
}
