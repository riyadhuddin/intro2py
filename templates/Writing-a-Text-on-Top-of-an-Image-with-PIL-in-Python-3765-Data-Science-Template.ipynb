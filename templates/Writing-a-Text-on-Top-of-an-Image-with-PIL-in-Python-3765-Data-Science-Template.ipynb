{
 "cells": [
  {
   "cell_type": "markdown",
   "id": "c955baf1",
   "metadata": {},
   "source": [
    "<hr style=\"border:5px solid #141F31\"> </hr>"
   ]
  },
  {
   "cell_type": "markdown",
   "id": "d090253a",
   "metadata": {},
   "source": [
    "# 365 DataScience Writing a text on top of an image with PIL in Python"
   ]
  },
  {
   "cell_type": "markdown",
   "id": "aae4f1e0",
   "metadata": {},
   "source": [
    "<hr style=\"border:4.5px solid #141F31\"> </hr>"
   ]
  },
  {
   "cell_type": "markdown",
   "id": "7c583ced",
   "metadata": {},
   "source": [
    "## Step 1 Import the necessary libraries"
   ]
  },
  {
   "cell_type": "code",
   "execution_count": null,
   "id": "30f5fc47",
   "metadata": {},
   "outputs": [],
   "source": [
    "from PIL import Image, ImageDraw, ImageFont\n",
    "from matplotlib.pyplot import imshow"
   ]
  },
  {
   "cell_type": "markdown",
   "id": "ea53d012",
   "metadata": {},
   "source": [
    "## Step 2 Open and display the image"
   ]
  },
  {
   "cell_type": "markdown",
   "id": "74e39de2",
   "metadata": {},
   "source": [
    "# Store the name of the file as a variable\n",
    "file_name = 'landscape.jpg'\n",
    "\n",
    "# Open the image and show it on the screen.\n",
    "# Note that the image needs to be in the same folder as your notebook.\n",
    "im = Image.open(file_name)\n",
    "# imshow(im)"
   ]
  },
  {
   "cell_type": "markdown",
   "id": "80a9aaa7",
   "metadata": {},
   "source": [
    "## Step 3 Put a text on the picture"
   ]
  },
  {
   "cell_type": "code",
   "execution_count": null,
   "id": "56eccd6d",
   "metadata": {},
   "outputs": [],
   "source": [
    "# Create an ImageDraw object\n",
    "draw = ImageDraw.Draw(im)\n",
    "\n",
    "# Create an ImageFont object and specify the font\n",
    "font = ImageFont.truetype('arial.ttf', 200)\n",
    "\n",
    "# Indicate the starting position of the text, the text itself, as well as the font and color to be used.\n",
    "draw.text((1200, 250), 'A beautiful landscape', font = font, fill = 'black')\n",
    "\n",
    "# Show the new image\n",
    "imshow(im)"
   ]
  },
  {
   "cell_type": "markdown",
   "id": "3f92574d",
   "metadata": {},
   "source": [
    "<a href=\"https://365datascience.com/resources-center/offer/?utm_medium=web&utm_source=rs&utm_campaign=web-rs-writing-a-text-on-top-of-an-image-with-pil-in-python&utm_content=writing-a-text-on-top-of-an-image-with-pil-in-python&utm_term=t\">Start your 365 Journey!</a>"
   ]
  },
  {
   "cell_type": "code",
   "execution_count": null,
   "id": "b4d486ed",
   "metadata": {},
   "outputs": [],
   "source": []
  }
 ],
 "metadata": {
  "kernelspec": {
   "display_name": "Python 3 (ipykernel)",
   "language": "python",
   "name": "python3"
  },
  "language_info": {
   "codemirror_mode": {
    "name": "ipython",
    "version": 3
   },
   "file_extension": ".py",
   "mimetype": "text/x-python",
   "name": "python",
   "nbconvert_exporter": "python",
   "pygments_lexer": "ipython3",
   "version": "3.9.7"
  }
 },
 "nbformat": 4,
 "nbformat_minor": 5
}
