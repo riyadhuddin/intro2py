{
 "cells": [
  {
   "cell_type": "markdown",
   "id": "c955baf1",
   "metadata": {},
   "source": [
    "<hr style=\"border:5px solid #141F31\"> </hr>"
   ]
  },
  {
   "cell_type": "markdown",
   "id": "d090253a",
   "metadata": {},
   "source": [
    "# 365 DataScience Defining functions in Python - the Fibonacci sequence"
   ]
  },
  {
   "cell_type": "markdown",
   "id": "aae4f1e0",
   "metadata": {},
   "source": [
    "<hr style=\"border:4.5px solid #141F31\"> </hr>"
   ]
  },
  {
   "cell_type": "markdown",
   "id": "b4935f77",
   "metadata": {},
   "source": [
    "## Step 1 Create a function that performs a task without returning a value"
   ]
  },
  {
   "cell_type": "code",
   "execution_count": null,
   "id": "df45f126",
   "metadata": {},
   "outputs": [],
   "source": [
    "# A function is a block of organized, reusable code that is called to perform a single, related action.\n",
    "\n",
    "# Define a simple function that takes a string as an argument and prints out a 'Hello ...!' message\n",
    "# given a name.\n",
    "# We have set a default value for the argument 'name'.\n",
    "# If the user calls the function without providing a value for the argument, the function will print out\n",
    "# 'Hello Alice!'\n",
    "def hello(name = 'Alice'):\n",
    "    print(f'Hello {name}!')"
   ]
  },
  {
   "cell_type": "markdown",
   "id": "c5e3a0c9",
   "metadata": {},
   "source": [
    "## Step 2 Call the function"
   ]
  },
  {
   "cell_type": "code",
   "execution_count": null,
   "id": "9c91c1f7",
   "metadata": {},
   "outputs": [],
   "source": [
    "# Call the function without an argument\n",
    "hello()\n",
    "\n",
    "# Call the function by providing an argument\n",
    "hello('Bob')"
   ]
  },
  {
   "cell_type": "markdown",
   "id": "1d554cee",
   "metadata": {},
   "source": [
    "## Step 3 Create a function that performs a task and returns a value"
   ]
  },
  {
   "cell_type": "code",
   "execution_count": null,
   "id": "e5a4f9e5",
   "metadata": {},
   "outputs": [],
   "source": [
    "# Create a function that returns the n-th Fibonacci numbers.\n",
    "# Write a docstring explaining the use of the function.\n",
    "\n",
    "def fib(n):\n",
    "    \n",
    "    ''' Calculates and returns the n-th Fibonacci number. '''\n",
    "    \n",
    "    a = 0\n",
    "    b = 1\n",
    "    \n",
    "    for i in range(n):\n",
    "        a, b = b, a+b\n",
    "    \n",
    "    return a"
   ]
  },
  {
   "cell_type": "markdown",
   "id": "90235383",
   "metadata": {},
   "source": [
    "## Step 4 Call the function"
   ]
  },
  {
   "cell_type": "code",
   "execution_count": null,
   "id": "13a3cf8a",
   "metadata": {},
   "outputs": [],
   "source": [
    "# Return the 10th Fibonacci number\n",
    "fib(10)"
   ]
  },
  {
   "cell_type": "markdown",
   "id": "aafcb608",
   "metadata": {},
   "source": [
    "<a href=\"https://365datascience.com/resources-center/offer/?utm_medium=web&utm_source=rs&utm_campaign=web-rs-defining-functions-in-python-the-fibonacci-sequence&utm_content=defining-functions-in-python-the-fibonacci-sequence&utm_term=t\">Start your 365 Journey!</a>"
   ]
  },
  {
   "cell_type": "code",
   "execution_count": null,
   "id": "5a4d1fe4",
   "metadata": {},
   "outputs": [],
   "source": []
  }
 ],
 "metadata": {
  "kernelspec": {
   "display_name": "Python 3 (ipykernel)",
   "language": "python",
   "name": "python3"
  },
  "language_info": {
   "codemirror_mode": {
    "name": "ipython",
    "version": 3
   },
   "file_extension": ".py",
   "mimetype": "text/x-python",
   "name": "python",
   "nbconvert_exporter": "python",
   "pygments_lexer": "ipython3",
   "version": "3.9.7"
  }
 },
 "nbformat": 4,
 "nbformat_minor": 5
}
