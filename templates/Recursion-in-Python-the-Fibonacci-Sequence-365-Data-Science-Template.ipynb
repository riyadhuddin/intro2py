{
 "cells": [
  {
   "cell_type": "markdown",
   "id": "c955baf1",
   "metadata": {},
   "source": [
    "<hr style=\"border:5px solid #141F31\"> </hr>"
   ]
  },
  {
   "cell_type": "markdown",
   "id": "d090253a",
   "metadata": {},
   "source": [
    "# 365 DataScience Recursion in Python - the Fibonacci sequence"
   ]
  },
  {
   "cell_type": "markdown",
   "id": "aae4f1e0",
   "metadata": {},
   "source": [
    "<hr style=\"border:4.5px solid #141F31\"> </hr>"
   ]
  },
  {
   "cell_type": "markdown",
   "id": "41c2cf38",
   "metadata": {},
   "source": [
    "## Step 1 Create a recursive function"
   ]
  },
  {
   "cell_type": "code",
   "execution_count": null,
   "id": "bfebca3f",
   "metadata": {},
   "outputs": [],
   "source": [
    "# Create a function that would use recursion to calculate the n-th Fibonacci number.\n",
    "# Recursion is not very efficient since each call of the function asks the computer for some memory.\n",
    "# Therefore, calculating big Fibonacci numbers would fill up the memory very fast.\n",
    "# The iterative method (for-loops, for example) is often significantly faster.\n",
    "\n",
    "# In this problem, the Fibonacci sequence starts at 0 and the indexing also starts at 0.\n",
    "def fib(n):\n",
    "    \n",
    "    # All recursive functions need a base case. In this problem, we have two of them - checking whether n is 0 or 1.\n",
    "    # If n equals either of these numbers, the function will stop calling itself and start computing the \n",
    "    # n-th Fibonacci number.\n",
    "    if n == 0:\n",
    "        return 0\n",
    "    elif n == 1:\n",
    "        return 1\n",
    "    else:\n",
    "        # When n = 0 (fib(0) = 0) or n = 1 (fib(1) = 1), we cannot take the sum of the two previous numbers because\n",
    "        # fib(0) and fib(1) *are* the first two numbers. However, we can calculate the numbers that sit at positions \n",
    "        # n >= 2. In the case of n = 2, we will take the sum of the numbers at n = 0 and n = 1, \n",
    "        # which are 0 and 1, as we have defined in the base cases above.\n",
    "        return fib(n-1) + fib(n-2)"
   ]
  },
  {
   "cell_type": "markdown",
   "id": "56f1da8d",
   "metadata": {},
   "source": [
    "## Step 2 Call the function"
   ]
  },
  {
   "cell_type": "code",
   "execution_count": null,
   "id": "2863b28d",
   "metadata": {},
   "outputs": [],
   "source": [
    "# Return the Fibonacci number with index 20.\n",
    "fib(20)"
   ]
  },
  {
   "cell_type": "markdown",
   "id": "ce009b70",
   "metadata": {},
   "source": [
    "<a href=\"https://365datascience.com/resources-center/offer/?utm_medium=web&utm_source=rs&utm_campaign=web-rs-recursion-in-python-the-fibonacci-sequence&utm_content=recursion-in-python-the-fibonacci-sequence&utm_term=t\">Start your 365 Journey!</a>"
   ]
  },
  {
   "cell_type": "code",
   "execution_count": null,
   "id": "c3439422",
   "metadata": {},
   "outputs": [],
   "source": []
  }
 ],
 "metadata": {
  "kernelspec": {
   "display_name": "Python 3 (ipykernel)",
   "language": "python",
   "name": "python3"
  },
  "language_info": {
   "codemirror_mode": {
    "name": "ipython",
    "version": 3
   },
   "file_extension": ".py",
   "mimetype": "text/x-python",
   "name": "python",
   "nbconvert_exporter": "python",
   "pygments_lexer": "ipython3",
   "version": "3.9.7"
  }
 },
 "nbformat": 4,
 "nbformat_minor": 5
}
