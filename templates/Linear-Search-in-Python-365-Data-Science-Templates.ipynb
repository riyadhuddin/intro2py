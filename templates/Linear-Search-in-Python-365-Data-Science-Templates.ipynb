{
 "cells": [
  {
   "cell_type": "markdown",
   "id": "ac8046c4",
   "metadata": {},
   "source": [
    "<hr style=\"border:5px solid #141F31\"> </hr>"
   ]
  },
  {
   "cell_type": "markdown",
   "id": "c6f84f9f",
   "metadata": {},
   "source": [
    "# 365 DataScience Linear search in Python"
   ]
  },
  {
   "cell_type": "markdown",
   "id": "5d185592",
   "metadata": {},
   "source": [
    "<hr style=\"border:5px solid #141F31\"> </hr>"
   ]
  },
  {
   "cell_type": "markdown",
   "id": "c23411fa",
   "metadata": {},
   "source": [
    "## Step 1 Create a function that performs a linear search on a list"
   ]
  },
  {
   "cell_type": "code",
   "execution_count": null,
   "id": "4884abe0",
   "metadata": {},
   "outputs": [],
   "source": [
    "# Create a function that checks whether a certain item ('item') is contained in a list ('my_list').\n",
    "# The time it takes to go through a list grows linearly with respect to the size of the list.\n",
    "# Therefore, the complexity of the search is O(n).\n",
    "# This means that the method is not particularly efficient and is good for small datasets.\n",
    "def linear_search(item, my_list):\n",
    "    i = 0 \n",
    "    # Create a boolean variable which initially assumes that the item is not found.\n",
    "    found = False\n",
    "    \n",
    "    # While the iterator 'i' is strictly smaller than the lenght of the list and the item is still not found,\n",
    "    # perform the operations in the body of the loop.\n",
    "    while i < len(my_list) and found == False:\n",
    "        \n",
    "        # Check if the i^th item in the list is equal to the item we are searching for.\n",
    "        if my_list[i] == item:\n",
    "            \n",
    "            # If it is, then we set the boolean variable to True.\n",
    "            # This will break out of the loop as the second condition won't be met.\n",
    "            found = True\n",
    "            \n",
    "        # If the i^th item is not equal to 'item', then we increase the value of 'i' by one \n",
    "        # and continue our search.\n",
    "        # Once we reach the end of the list without success, 'i' will be set to the lenght of the list.\n",
    "        # This will break out of the loop as the first condition won't be met.\n",
    "        else:\n",
    "            i = i + 1\n",
    "            \n",
    "    # Return True if the item is in the list.\n",
    "    # Return False if the item is not in the list.\n",
    "    return found"
   ]
  },
  {
   "cell_type": "markdown",
   "id": "fe42fad1",
   "metadata": {},
   "source": [
    "## Step 2 Check if the function performs as expected"
   ]
  },
  {
   "cell_type": "code",
   "execution_count": null,
   "id": "2c9938e7",
   "metadata": {},
   "outputs": [],
   "source": [
    "# Create a list of numbers\n",
    "test = [6, 5, 8, 2, 3, 45, 87, 24, 70]\n",
    "\n",
    "# Check if the number 4 is inside this list.\n",
    "print(linear_search(4,test))\n",
    "\n",
    "# Check if the number 87 is inside this list.\n",
    "print(linear_search(87,test))"
   ]
  }
 ],
 "metadata": {
  "kernelspec": {
   "display_name": "Python 3 (ipykernel)",
   "language": "python",
   "name": "python3"
  },
  "language_info": {
   "codemirror_mode": {
    "name": "ipython",
    "version": 3
   },
   "file_extension": ".py",
   "mimetype": "text/x-python",
   "name": "python",
   "nbconvert_exporter": "python",
   "pygments_lexer": "ipython3",
   "version": "3.8.8"
  }
 },
 "nbformat": 4,
 "nbformat_minor": 5
}
