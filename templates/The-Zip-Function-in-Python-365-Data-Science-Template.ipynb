{
 "cells": [
  {
   "cell_type": "markdown",
   "id": "c955baf1",
   "metadata": {},
   "source": [
    "<hr style=\"border:5px solid #141F31\"> </hr>"
   ]
  },
  {
   "cell_type": "markdown",
   "id": "d090253a",
   "metadata": {},
   "source": [
    "# 365 DataScience The zip function in Python"
   ]
  },
  {
   "cell_type": "markdown",
   "id": "aae4f1e0",
   "metadata": {},
   "source": [
    "<hr style=\"border:4.5px solid #141F31\"> </hr>"
   ]
  },
  {
   "cell_type": "markdown",
   "id": "c9c70456",
   "metadata": {},
   "source": [
    "## Step 1 Create two lists"
   ]
  },
  {
   "cell_type": "code",
   "execution_count": null,
   "id": "db4d0b55",
   "metadata": {},
   "outputs": [],
   "source": [
    "list_digits = [1, 2, 3, 4]\n",
    "list_letters = ['a', 'b', 'c', 'd']"
   ]
  },
  {
   "cell_type": "markdown",
   "id": "be027673",
   "metadata": {},
   "source": [
    "## Step 2 Apply the 'zip' function"
   ]
  },
  {
   "cell_type": "code",
   "execution_count": null,
   "id": "e1e3db01",
   "metadata": {},
   "outputs": [],
   "source": [
    "# Apply the 'zip' function to both lists and store the result in a new variable.\n",
    "joined = zip(list_digits, list_letters)"
   ]
  },
  {
   "cell_type": "markdown",
   "id": "cfb63617",
   "metadata": {},
   "source": [
    "## Step 3 Display the content and the type of the variable 'joined'"
   ]
  },
  {
   "cell_type": "code",
   "execution_count": null,
   "id": "e1e13927",
   "metadata": {},
   "outputs": [],
   "source": [
    "# The function returns an iterator of tuples and the variable is of type 'zip'.\n",
    "joined, type(joined)"
   ]
  },
  {
   "cell_type": "markdown",
   "id": "e93cef79",
   "metadata": {},
   "source": [
    "## Step 4 Convert the variable 'joined' into a list and display the result"
   ]
  },
  {
   "cell_type": "code",
   "execution_count": null,
   "id": "c36afe69",
   "metadata": {},
   "outputs": [],
   "source": [
    "# From the output we can conclude that the 'zip' function takes the two lists and creates a new list.\n",
    "# It contains tuples pairing the items with the same indices.\n",
    "joined_list = list(joined)\n",
    "joined_list"
   ]
  },
  {
   "cell_type": "markdown",
   "id": "2cfbd370",
   "metadata": {},
   "source": [
    "## Step 5 Check what happens when one of the lists is larger"
   ]
  },
  {
   "cell_type": "code",
   "execution_count": null,
   "id": "7b5fe9ab",
   "metadata": {},
   "outputs": [],
   "source": [
    "# Copy the code from above.\n",
    "# This time, redefine the firt list such that it now contains one more digit.\n",
    "list_digits = [1, 2, 3, 4, 5]\n",
    "list_letters = ['a', 'b', 'c', 'd']\n",
    "\n",
    "# Zip the two lists\n",
    "joined = zip(list_digits, list_letters)\n",
    "\n",
    "# Convert the 'zip' object into a list.\n",
    "joined_list = list(joined)\n",
    "\n",
    "# Display the result.\n",
    "# Notice that the function performs the zipping until it reaches the end of the shorter list.\n",
    "# Therefore, the digit 5 is not present in the 'joined_list' variable.\n",
    "joined_list"
   ]
  },
  {
   "cell_type": "markdown",
   "id": "3c82e0fa",
   "metadata": {},
   "source": [
    "## Step 6 Check what happens when zipping more than two lists"
   ]
  },
  {
   "cell_type": "code",
   "execution_count": null,
   "id": "b5ac2669",
   "metadata": {},
   "outputs": [],
   "source": [
    "# Copy the code from above.\n",
    "# This time, create a third list.\n",
    "list_digits = [1, 2, 3, 4]\n",
    "list_letters = ['a', 'b', 'c', 'd']\n",
    "list_puctuation = ['.', '!', '?', ',']\n",
    "\n",
    "# Zip the three lists\n",
    "joined = zip(list_digits, list_letters, list_puctuation)\n",
    "\n",
    "# Convert the 'zip' object into a list.\n",
    "joined_list = list(joined)\n",
    "\n",
    "# Display the result.\n",
    "# The function has joined all items having the same index.\n",
    "joined_list"
   ]
  },
  {
   "cell_type": "markdown",
   "id": "3935cc82",
   "metadata": {},
   "source": [
    "## Step 7 Unzip values"
   ]
  },
  {
   "cell_type": "code",
   "execution_count": null,
   "id": "6e704a82",
   "metadata": {},
   "outputs": [],
   "source": [
    "# Using the syntax below, one can also 'unzip' a list using the 'zip' function.\n",
    "# We use the 'joined_list' variable which stores the items from Step 6 above.\n",
    "# We can unzip the values in 'joined list' into three variables.\n",
    "i, j, k = zip(*joined_list)\n",
    "\n",
    "# The result from the unzipping are printed below.\n",
    "print(f'i: {i}')\n",
    "print(f'j: {j}')\n",
    "print(f'k: {k}')\n",
    "print(f'Type of i, j and k: {type(i)}')"
   ]
  },
  {
   "cell_type": "markdown",
   "id": "70041dd8",
   "metadata": {},
   "source": [
    "<a href=\"https://365datascience.com/resources-center/offer/?utm_medium=web&utm_source=rs&utm_campaign=web-rs-the-zip-function-in-python%20&utm_content=the-zip-function-in-python&utm_term=t\">Start your 365 Journey!</a>"
   ]
  },
  {
   "cell_type": "code",
   "execution_count": null,
   "id": "fe6aea38",
   "metadata": {},
   "outputs": [],
   "source": []
  }
 ],
 "metadata": {
  "kernelspec": {
   "display_name": "Python 3 (ipykernel)",
   "language": "python",
   "name": "python3"
  },
  "language_info": {
   "codemirror_mode": {
    "name": "ipython",
    "version": 3
   },
   "file_extension": ".py",
   "mimetype": "text/x-python",
   "name": "python",
   "nbconvert_exporter": "python",
   "pygments_lexer": "ipython3",
   "version": "3.9.7"
  }
 },
 "nbformat": 4,
 "nbformat_minor": 5
}
