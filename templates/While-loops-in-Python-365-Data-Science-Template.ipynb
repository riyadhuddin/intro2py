{
 "cells": [
  {
   "cell_type": "markdown",
   "id": "c955baf1",
   "metadata": {},
   "source": [
    "<hr style=\"border:5px solid #141F31\"> </hr>"
   ]
  },
  {
   "cell_type": "markdown",
   "id": "d090253a",
   "metadata": {},
   "source": [
    "# 365 DataScience While-loops in Python"
   ]
  },
  {
   "cell_type": "markdown",
   "id": "aae4f1e0",
   "metadata": {},
   "source": [
    "<hr style=\"border:4.5px solid #141F31\"> </hr>"
   ]
  },
  {
   "cell_type": "markdown",
   "id": "d1184d1e",
   "metadata": {},
   "source": [
    "## Step 1 Construct the while-loop"
   ]
  },
  {
   "cell_type": "code",
   "execution_count": null,
   "id": "5cee7742",
   "metadata": {},
   "outputs": [],
   "source": [
    "# Create a list to store the ages of students in a class\n",
    "ages = []\n",
    "\n",
    "# Ask the user to input the age of the first student in the class\n",
    "user_input = int(input('Please, enter the age of the first class member. Type -1 to exit. >>> '))\n",
    "\n",
    "# Loop until the value of 'user_input' becomes negative.\n",
    "while user_input > 0:\n",
    "    \n",
    "    # Append the age to the list of ages\n",
    "    ages.append(user_input)\n",
    "    \n",
    "    # Ask the user to input the next age\n",
    "    user_input = int(input('Enter the age of the next class member: >>> '))\n",
    "\n",
    "# Print out the ages of all students in the class\n",
    "print(f'The ages are: {ages}')"
   ]
  },
  {
   "cell_type": "markdown",
   "id": "4c3d8366",
   "metadata": {},
   "source": [
    "<a href=\"https://365datascience.com/resources-center/offer/?utm_medium=web&utm_source=rs&utm_campaign=web-rs-while-loops-in-python&utm_content=while-loops-in-python&utm_term=t\">Start your 365 Journey!</a>"
   ]
  },
  {
   "cell_type": "code",
   "execution_count": null,
   "id": "17dd60cb",
   "metadata": {},
   "outputs": [],
   "source": []
  }
 ],
 "metadata": {
  "kernelspec": {
   "display_name": "Python 3 (ipykernel)",
   "language": "python",
   "name": "python3"
  },
  "language_info": {
   "codemirror_mode": {
    "name": "ipython",
    "version": 3
   },
   "file_extension": ".py",
   "mimetype": "text/x-python",
   "name": "python",
   "nbconvert_exporter": "python",
   "pygments_lexer": "ipython3",
   "version": "3.9.7"
  }
 },
 "nbformat": 4,
 "nbformat_minor": 5
}
