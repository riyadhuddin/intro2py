{
 "cells": [
  {
   "cell_type": "code",
   "execution_count": 1,
   "metadata": {},
   "outputs": [],
   "source": [
    "#write a function to play youtubevideo in your browser\n",
    "def play_youtube_video(video_id):\n",
    "    import webbrowser\n",
    "    webbrowser.open('https://www.youtube.com/watch?v='+video_id)\n",
    "#write a function to play youtubevideo in your browser"
   ]
  },
  {
   "cell_type": "code",
   "execution_count": 2,
   "metadata": {},
   "outputs": [],
   "source": [
    "play_youtube_video('gSSu-wXo3q8')"
   ]
  },
  {
   "cell_type": "code",
   "execution_count": 5,
   "metadata": {},
   "outputs": [],
   "source": [
    "#write a function to play youtubevideo within ipython notebook \n",
    "def play_youtube_video_ipynb(video_id):\n",
    "    from IPython.display import YouTubeVideo\n",
    "    YouTubeVideo(video_id)"
   ]
  },
  {
   "cell_type": "code",
   "execution_count": 6,
   "metadata": {},
   "outputs": [],
   "source": [
    "play_youtube_video_ipynb('gSSu-wXo3q8')"
   ]
  },
  {
   "cell_type": "code",
   "execution_count": 7,
   "metadata": {},
   "outputs": [],
   "source": [
    "#write a function to analyze youtubevideo \n",
    "def analyze_youtube_video(video_id):\n",
    "    import requests\n",
    "    from bs4 import BeautifulSoup\n",
    "    url = 'https://www.youtube.com/watch?v='+video_id\n",
    "    response = requests.get(url)\n",
    "    soup = BeautifulSoup(response.text, 'html.parser')\n",
    "    title = soup.find('h1', id='eow-title')\n",
    "    print(title.text)\n",
    "    views = soup.find('div', id='watch7-views-info')\n",
    "    print(views.text)\n",
    "    likes = soup.find('button', id='like-button-legacy')\n",
    "    print(likes.text)\n",
    "    dislikes = soup.find('button', id='dislike-button-legacy')\n",
    "    print(dislikes.text)\n",
    "    comments = soup.find('span', id='comment-count')\n",
    "    print(comments.text)\n",
    "    description = soup.find('div', id='eow-description')\n",
    "    print(description.text)\n",
    "    channel = soup.find('a', id='channel-name')\n",
    "    print(channel.text)\n",
    "    channel_url = soup.find('a', id='channel-link')\n",
    "    print(channel_url.text)\n",
    "    channel_url = soup.find('a', id='channel-link')['href']\n",
    "    print(channel_url)\n",
    "    channel_subscribers = soup.find('span', id='subscribe-button')\n",
    "    print(channel_subscribers.text)\n",
    "    channel_subscribers = soup.find('span', id='subscribe-button')['title']\n",
    "    print(channel_subscribers)\n",
    "    channel_subscribers = soup.find('span', id='subscribe-button')['data-tooltip-text']\n",
    "    print(channel_subscribers)\n",
    "    channel_subscribers = soup.find('span', id='subscribe-button')['aria-label']\n",
    "    print(channel_subscribers)"
   ]
  }
 ],
 "metadata": {
  "interpreter": {
   "hash": "8fac594bfae6525c0c41b4041d2d72effa188cc8ead05f81b1fab2bb098927fb"
  },
  "kernelspec": {
   "display_name": "Python 3.9.7 64-bit ('base': conda)",
   "language": "python",
   "name": "python3"
  },
  "language_info": {
   "codemirror_mode": {
    "name": "ipython",
    "version": 3
   },
   "file_extension": ".py",
   "mimetype": "text/x-python",
   "name": "python",
   "nbconvert_exporter": "python",
   "pygments_lexer": "ipython3",
   "version": "3.9.7"
  },
  "orig_nbformat": 4
 },
 "nbformat": 4,
 "nbformat_minor": 2
}
