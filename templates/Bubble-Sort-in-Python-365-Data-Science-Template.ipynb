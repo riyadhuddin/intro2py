{
 "cells": [
  {
   "cell_type": "markdown",
   "id": "c955baf1",
   "metadata": {},
   "source": [
    "<hr style=\"border:5px solid #141F31\"> </hr>"
   ]
  },
  {
   "cell_type": "markdown",
   "id": "d090253a",
   "metadata": {},
   "source": [
    "# 365 DataScience Bubble sort with for-loops in Python"
   ]
  },
  {
   "cell_type": "markdown",
   "id": "aae4f1e0",
   "metadata": {},
   "source": [
    "<hr style=\"border:4.5px solid #141F31\"> </hr>"
   ]
  },
  {
   "cell_type": "markdown",
   "id": "ea8cb59f",
   "metadata": {},
   "source": [
    "## Step 1 Create a list to sort"
   ]
  },
  {
   "cell_type": "code",
   "execution_count": null,
   "id": "be92351d",
   "metadata": {},
   "outputs": [],
   "source": [
    "not_sorted = [53, 76, 25, 98, 56, 42, 69, 81]"
   ]
  },
  {
   "cell_type": "markdown",
   "id": "c8029f21",
   "metadata": {},
   "source": [
    "## Step 2 Create a function that sorts a list using the bubble sort algorithm"
   ]
  },
  {
   "cell_type": "code",
   "execution_count": null,
   "id": "fbb60861",
   "metadata": {},
   "outputs": [],
   "source": [
    "def bubble_sort(data):\n",
    "    \n",
    "    # Create a copy of the original data\n",
    "    data_copy = data[:]\n",
    "    \n",
    "    for i in range(len(data_copy)): # 'i' will go thorugh the numbers 0 to 7 (inclusive)\n",
    "        \n",
    "        # When 'i' is equal to 0, 'j' will go through the numbers from 0 to 6 (inclusive)\n",
    "        # When 'i' is equal to 1, 'j' will go through the numbers from 0 to 5 (inclusive)\n",
    "        # When 'i' is equal to 2, 'j' will go through the numbers from 0 to 4 (inclusive)\n",
    "        # When 'i' is equal to 3, 'j' will go through the numbers from 0 to 3 (inclusive)\n",
    "        # When 'i' is equal to 4, 'j' will go through the numbers from 0 to 2 (inclusive)\n",
    "        # When 'i' is equal to 5, 'j' will go through the numbers from 0 to 1 (inclusive)\n",
    "        # When 'i' is equal to 6, 'j' will equal 0\n",
    "        for j in range(0, len(data_copy)-i-1):\n",
    "            \n",
    "            # Check if a number is larger that the next one\n",
    "            if data_copy[j] > data_copy[j+1]:\n",
    "                \n",
    "                # If yes, then swap the numbers\n",
    "                data_copy[j], data_copy[j+1] = data_copy[j+1], data_copy[j]\n",
    "    \n",
    "    # Return the sorted list\n",
    "    return data_copy"
   ]
  },
  {
   "cell_type": "markdown",
   "id": "923951b3",
   "metadata": {},
   "source": [
    "## Step 3 Call the function and sort the list"
   ]
  },
  {
   "cell_type": "code",
   "execution_count": null,
   "id": "966fa142",
   "metadata": {},
   "outputs": [],
   "source": [
    "# Call the function and pass as an argument the list defined at the beginning\n",
    "bubble_sort(not_sorted)"
   ]
  },
  {
   "cell_type": "markdown",
   "id": "0cc33670",
   "metadata": {},
   "source": [
    "<a href=\"https://365datascience.com/resources-center/offer/?utm_medium=web&utm_source=rs&utm_campaign=web-rs-bubble-sort-in-python&utm_content=bubble-sort-in-python&utm_term=t\">Start your 365 Journey!</a>"
   ]
  },
  {
   "cell_type": "code",
   "execution_count": null,
   "id": "88343842",
   "metadata": {},
   "outputs": [],
   "source": []
  }
 ],
 "metadata": {
  "kernelspec": {
   "display_name": "Python 3 (ipykernel)",
   "language": "python",
   "name": "python3"
  },
  "language_info": {
   "codemirror_mode": {
    "name": "ipython",
    "version": 3
   },
   "file_extension": ".py",
   "mimetype": "text/x-python",
   "name": "python",
   "nbconvert_exporter": "python",
   "pygments_lexer": "ipython3",
   "version": "3.9.7"
  }
 },
 "nbformat": 4,
 "nbformat_minor": 5
}
