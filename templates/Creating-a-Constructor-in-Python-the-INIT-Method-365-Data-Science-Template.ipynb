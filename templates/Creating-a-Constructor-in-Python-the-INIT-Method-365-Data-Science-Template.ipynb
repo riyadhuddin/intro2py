{
 "cells": [
  {
   "cell_type": "markdown",
   "id": "c955baf1",
   "metadata": {},
   "source": [
    "<hr style=\"border:5px solid #141F31\"> </hr>"
   ]
  },
  {
   "cell_type": "markdown",
   "id": "d090253a",
   "metadata": {},
   "source": [
    "# 365 DataScience Create a constructor in Python - the INIT method"
   ]
  },
  {
   "cell_type": "markdown",
   "id": "aae4f1e0",
   "metadata": {},
   "source": [
    "<hr style=\"border:4.5px solid #141F31\"> </hr>"
   ]
  },
  {
   "cell_type": "markdown",
   "id": "c86eca55",
   "metadata": {},
   "source": [
    "## Step 1 Create and design a class"
   ]
  },
  {
   "cell_type": "code",
   "execution_count": null,
   "id": "0c222efe",
   "metadata": {},
   "outputs": [],
   "source": [
    "# Create a class called Patient.\n",
    "# 'object' is the class from which all other classes inherit.\n",
    "class Patient(object):\n",
    "    \n",
    "    # In a docstring, describe what the purpose of the class is.\n",
    "    ''' Register a patient in a medical centre '''\n",
    "    \n",
    "    # Create a constructor which controls the varibles that each object can have.\n",
    "    # The 'self' keyword serves as a placeholder for each instance of the Patient class.\n",
    "    def __init__(self, name, age):\n",
    "        self.name = name\n",
    "        self.age = age"
   ]
  },
  {
   "cell_type": "markdown",
   "id": "3a282386",
   "metadata": {},
   "source": [
    "## Step 2 Create an object - an instance of the Patient class"
   ]
  },
  {
   "cell_type": "code",
   "execution_count": null,
   "id": "5c6ef942",
   "metadata": {},
   "outputs": [],
   "source": [
    "# Create two instances of the Patient class and provide two arguments for each of them - \n",
    "# the name and the age of the patient.\n",
    "alice = Patient('Alice', 42)\n",
    "bob = Patient('Bob', 18)"
   ]
  },
  {
   "cell_type": "markdown",
   "id": "ebfe3ec8",
   "metadata": {},
   "source": [
    "## Step 3 Retrieve information from the objects"
   ]
  },
  {
   "cell_type": "code",
   "execution_count": null,
   "id": "7be0f115",
   "metadata": {},
   "outputs": [],
   "source": [
    "# Retrieve information from the obejcts\n",
    "alice.name, alice.age, bob.name, bob.age"
   ]
  },
  {
   "cell_type": "markdown",
   "id": "d91b5dd3",
   "metadata": {},
   "source": []
  },
  {
   "cell_type": "markdown",
   "id": "49ce97cb",
   "metadata": {},
   "source": [
    "<a href=\"https://365datascience.com/resources-center/offer/?utm_medium=web&utm_source=rs&utm_campaign=web-rs-creating-a-constructor-in-python-the-init-method-&utm_content=creating-a-constructor-in-python-the-init-method-&utm_term=t\">Start your 365 Journey!</a>\n"
   ]
  }
 ],
 "metadata": {
  "kernelspec": {
   "display_name": "Python 3 (ipykernel)",
   "language": "python",
   "name": "python3"
  },
  "language_info": {
   "codemirror_mode": {
    "name": "ipython",
    "version": 3
   },
   "file_extension": ".py",
   "mimetype": "text/x-python",
   "name": "python",
   "nbconvert_exporter": "python",
   "pygments_lexer": "ipython3",
   "version": "3.9.7"
  }
 },
 "nbformat": 4,
 "nbformat_minor": 5
}
