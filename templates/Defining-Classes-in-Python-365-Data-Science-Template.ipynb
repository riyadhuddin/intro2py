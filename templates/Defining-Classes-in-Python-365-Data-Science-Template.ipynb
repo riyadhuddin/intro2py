{
 "cells": [
  {
   "cell_type": "markdown",
   "id": "c955baf1",
   "metadata": {},
   "source": [
    "<hr style=\"border:5px solid #141F31\"> </hr>"
   ]
  },
  {
   "cell_type": "markdown",
   "id": "d090253a",
   "metadata": {},
   "source": [
    "# 365 DataScience Defining classes in Python"
   ]
  },
  {
   "cell_type": "markdown",
   "id": "aae4f1e0",
   "metadata": {},
   "source": [
    "<hr style=\"border:4.5px solid #141F31\"> </hr>"
   ]
  },
  {
   "cell_type": "markdown",
   "id": "c86eca55",
   "metadata": {},
   "source": [
    "## Step 1 Create and design a class"
   ]
  },
  {
   "cell_type": "code",
   "execution_count": null,
   "id": "0c222efe",
   "metadata": {},
   "outputs": [],
   "source": [
    "# Create a class called Patient.\n",
    "# 'object' is the class from which all other classes inherit.\n",
    "class Patient(object):\n",
    "    \n",
    "    # In a docstring, describe what the purpose of the class is.\n",
    "    ''' Register a patient in a medical centre '''\n",
    "    \n",
    "    # The pass-statement. Allows us to create an instance of the 'Patient' class without crashing.\n",
    "    pass"
   ]
  },
  {
   "cell_type": "markdown",
   "id": "3a282386",
   "metadata": {},
   "source": [
    "## Step 2 Create an object - an instance of the Patient class"
   ]
  },
  {
   "cell_type": "code",
   "execution_count": null,
   "id": "5c6ef942",
   "metadata": {},
   "outputs": [],
   "source": [
    "x = Patient()"
   ]
  },
  {
   "cell_type": "markdown",
   "id": "5090561b",
   "metadata": {},
   "source": [
    "## Step 3 Store variables in the Patient object"
   ]
  },
  {
   "cell_type": "code",
   "execution_count": null,
   "id": "1136226e",
   "metadata": {},
   "outputs": [],
   "source": [
    "# Store the name and the age of the Patient\n",
    "x.name = 'Alice'\n",
    "x.age = 42"
   ]
  },
  {
   "cell_type": "markdown",
   "id": "ebfe3ec8",
   "metadata": {},
   "source": [
    "## Step 4 Retrieve information from the object"
   ]
  },
  {
   "cell_type": "code",
   "execution_count": null,
   "id": "7be0f115",
   "metadata": {},
   "outputs": [],
   "source": [
    "# Retrieve information from the obejct\n",
    "x.name, x.age"
   ]
  },
  {
   "cell_type": "markdown",
   "id": "72906ca8",
   "metadata": {},
   "source": [
    "<a href=\"https://365datascience.com/resources-center/offer/?utm_medium=web&utm_source=rs&utm_campaign=web-rs-defining-classes-in-python&utm_content=defining-classes-in-python&utm_term=t\">Start your 365 Journey!</a>"
   ]
  },
  {
   "cell_type": "code",
   "execution_count": null,
   "id": "92181884",
   "metadata": {},
   "outputs": [],
   "source": []
  }
 ],
 "metadata": {
  "kernelspec": {
   "display_name": "Python 3 (ipykernel)",
   "language": "python",
   "name": "python3"
  },
  "language_info": {
   "codemirror_mode": {
    "name": "ipython",
    "version": 3
   },
   "file_extension": ".py",
   "mimetype": "text/x-python",
   "name": "python",
   "nbconvert_exporter": "python",
   "pygments_lexer": "ipython3",
   "version": "3.9.7"
  }
 },
 "nbformat": 4,
 "nbformat_minor": 5
}
