{
 "cells": [
  {
   "cell_type": "markdown",
   "id": "c955baf1",
   "metadata": {},
   "source": [
    "<hr style=\"border:5px solid #141F31\"> </hr>"
   ]
  },
  {
   "cell_type": "markdown",
   "id": "d090253a",
   "metadata": {},
   "source": [
    "# 365 DataScience The if-else statement in Python"
   ]
  },
  {
   "cell_type": "markdown",
   "id": "aae4f1e0",
   "metadata": {},
   "source": [
    "<hr style=\"border:4.5px solid #141F31\"> </hr>"
   ]
  },
  {
   "cell_type": "markdown",
   "id": "18240dfe",
   "metadata": {},
   "source": [
    "## Step 1 Create the if-else statement:"
   ]
  },
  {
   "cell_type": "code",
   "execution_count": null,
   "id": "a0218235",
   "metadata": {},
   "outputs": [],
   "source": [
    "# Instruct the user to enter the temperature outside.\n",
    "# The result will be stored in the 'temp' variable as an integer.\n",
    "temp = int(input('Please, enter the temperature outside in Celsius. >>> '))\n",
    "\n",
    "if temp > 30:\n",
    "    print('Wear shorts and sun cream!') # Print out the statement if the temperature is higher than 30 degrees (exclusive).\n",
    "elif temp <= 30 and temp > 20:\n",
    "    print('It\\'s warm but not shorts weather!') # Print out the statement if the temperature is between 30 (inclusive) and 20 (exclusive).\n",
    "elif temp <= 20 and temp > 10:\n",
    "    print('You\\'ll probbaly need a vest today!') # Print out the statement if the temperature is between 20 (inclusive) and 10 (exclusive).\n",
    "else:\n",
    "    print('Too cold, don\\'t go outside!') # Print out the statement if the temperature is lower than 10 degrees (inclusive)."
   ]
  },
  {
   "cell_type": "markdown",
   "id": "6fccc867",
   "metadata": {},
   "source": [
    "<a href=\"https://365datascience.com/resources-center/offer/?utm_medium=web&utm_source=rs&utm_campaign=web-rs-the-if-else-statement-in-python&utm_content=the-if-else-statement-in-python&utm_term=t\">Start your 365 Journey!</a>"
   ]
  },
  {
   "cell_type": "code",
   "execution_count": null,
   "id": "10fe1b4b",
   "metadata": {},
   "outputs": [],
   "source": []
  }
 ],
 "metadata": {
  "kernelspec": {
   "display_name": "Python 3 (ipykernel)",
   "language": "python",
   "name": "python3"
  },
  "language_info": {
   "codemirror_mode": {
    "name": "ipython",
    "version": 3
   },
   "file_extension": ".py",
   "mimetype": "text/x-python",
   "name": "python",
   "nbconvert_exporter": "python",
   "pygments_lexer": "ipython3",
   "version": "3.9.7"
  }
 },
 "nbformat": 4,
 "nbformat_minor": 5
}
