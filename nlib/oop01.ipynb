{
 "cells": [
  {
   "cell_type": "code",
   "execution_count": 8,
   "id": "8644ccf7",
   "metadata": {},
   "outputs": [
    {
     "name": "stdout",
     "output_type": "stream",
     "text": [
      "Chittagong\n",
      "Chittagong\n"
     ]
    }
   ],
   "source": [
    "class country:\n",
    "    def __init__(self, name):\n",
    "        self.name = name\n",
    "    def district(self):\n",
    "        print(self.name)\n",
    "    def city(self):\n",
    "        print(self.name)\n",
    "def main():\n",
    "    bd = country('Chittagong')\n",
    "    bd.district()\n",
    "    bd.city()\n",
    "if __name__ == \"__main__\":\n",
    "    main()"
   ]
  },
  {
   "cell_type": "code",
   "execution_count": null,
   "id": "0d6fd3d9",
   "metadata": {},
   "outputs": [],
   "source": []
  }
 ],
 "metadata": {
  "kernelspec": {
   "display_name": "Python 3 (ipykernel)",
   "language": "python",
   "name": "python3"
  },
  "language_info": {
   "codemirror_mode": {
    "name": "ipython",
    "version": 3
   },
   "file_extension": ".py",
   "mimetype": "text/x-python",
   "name": "python",
   "nbconvert_exporter": "python",
   "pygments_lexer": "ipython3",
   "version": "3.9.7"
  }
 },
 "nbformat": 4,
 "nbformat_minor": 5
}
