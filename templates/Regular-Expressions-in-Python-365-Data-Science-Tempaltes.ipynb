{
 "cells": [
  {
   "cell_type": "markdown",
   "id": "4210671e",
   "metadata": {},
   "source": [
    "<hr style=\"border:5px solid #141F31\"> </hr>"
   ]
  },
  {
   "cell_type": "markdown",
   "id": "c6f84f9f",
   "metadata": {},
   "source": [
    "# 365 DataScience Regular expressions in Python"
   ]
  },
  {
   "cell_type": "markdown",
   "id": "33bc0a4c",
   "metadata": {},
   "source": [
    "<hr style=\"border:5px solid #141F31\"> </hr>"
   ]
  },
  {
   "cell_type": "markdown",
   "id": "6d8ee155",
   "metadata": {},
   "source": [
    "## Step 1 Most commonly used regular expressions"
   ]
  },
  {
   "cell_type": "markdown",
   "id": "a3acffa4",
   "metadata": {},
   "source": [
    "Regular expressions allow you to search for patterns in a text.\n",
    "In this way, information can be extracted very efficiently. \n",
    "The documentation for the Python Standard Library is an essential guide \n",
    "towards regular expression:\n",
    "https://docs.python.org/3/library/re.html"
   ]
  },
  {
   "cell_type": "markdown",
   "id": "b9655d1a",
   "metadata": {},
   "source": [
    "### Matching characters\n",
    "\n",
    "<b>[aeiou]</b>\tMatch any vowel <br>\n",
    "<b>[^aeiou]\t</b> ^ inverts selection, this matches any consonant<br>\n",
    "<b>[a-z]</b> Match any lowercase leter from a-z<br>\n",
    "<b>\\d</b> Matches any decimal digit; this is equivalent to the class [0-9]<br>\n",
    "<b>\\D</b> Matches any non-digit character; this is equivalent to the class [^0-9]<br>\n",
    "<b>\\s</b> Matches any whitespace character; this is equivalent to the class [ \\t\\n\\r\\f\\v]<br>\n",
    "<b>\\S</b> Matches any non-whitespace character; this is equivalent to the class [^ \\t\\n\\r\\f\\v]<br>\n",
    "<b>\\w</b> Matches any alphanumeric character; this is equivalent to the class [a-zA-Z0-9_]<br>\n",
    "<b>\\W</b> Matches any non-alphanumeric character; this is equivalent to the class [^a-zA-Z0-9_]\n",
    "\n",
    "### Repetition\n",
    "\n",
    "<b>?</b> Match 0 or 1 of the preceeding group<br>\n",
    "<b>*</b> Match 0 or more of the preceeding group<br>\n",
    "<b>+</b> Match 1 or more of the preceeding group<br>\n",
    "<b>{n}</b> Match exactly n of the preceeding group<br>\n",
    "<b>^string</b> String must begin with <i>string</i><br>\n",
    "<b>string$ </b> String must end with <i>string</i><br>"
   ]
  },
  {
   "cell_type": "markdown",
   "id": "9d695d7b",
   "metadata": {},
   "source": [
    "## Step 2 Import the re module"
   ]
  },
  {
   "cell_type": "code",
   "execution_count": null,
   "id": "6eaa4c71",
   "metadata": {},
   "outputs": [],
   "source": [
    "import re"
   ]
  },
  {
   "cell_type": "markdown",
   "id": "2851151a",
   "metadata": {},
   "source": [
    "## Step 3 Compile, match, search and group"
   ]
  },
  {
   "cell_type": "code",
   "execution_count": null,
   "id": "9ff7180a",
   "metadata": {},
   "outputs": [],
   "source": [
    "# Compile the pattern.\n",
    "# The 'r' in front of the quotation marks informs Python that we are using a raw string.\n",
    "pattern = re.compile(r'dog')\n",
    "\n",
    "# The object returns the pattern iself and the encoding of the characters.\n",
    "# By default, that is Unicode.\n",
    "pattern"
   ]
  },
  {
   "cell_type": "code",
   "execution_count": null,
   "id": "54d511f9",
   "metadata": {},
   "outputs": [],
   "source": [
    "# Tell Python what is it that you want to match against the compiled pattern.\n",
    "# It returns an object giving details on what kind of object that is, the place \n",
    "# where the match occured as well as the thing that we are matching.\n",
    "pattern.search('dog')"
   ]
  },
  {
   "cell_type": "code",
   "execution_count": null,
   "id": "d5973e0d",
   "metadata": {},
   "outputs": [],
   "source": [
    "# Store the Match object in a variable called matched1.\n",
    "# The match() method will only match whatever is at the start of the string.\n",
    "# Therefore, if the string doesn't start with 'dog', the code will throw an error.\n",
    "matched1 = pattern.match('dog123')\n",
    "\n",
    "# Use the group() method on that object to access what has been matched.\n",
    "matched1.group()"
   ]
  },
  {
   "cell_type": "code",
   "execution_count": null,
   "id": "b920d51d",
   "metadata": {},
   "outputs": [],
   "source": [
    "# To search for patterns anywhere in the text, search() should be used instead.\n",
    "matched2 = pattern.search('feed the dog')\n",
    "matched2.group()"
   ]
  },
  {
   "cell_type": "markdown",
   "id": "6a4e928b",
   "metadata": {},
   "source": [
    "## Step 4 Create more complicated patterns"
   ]
  },
  {
   "cell_type": "code",
   "execution_count": null,
   "id": "6824c348",
   "metadata": {},
   "outputs": [],
   "source": [
    "# With this pattern, we will search for the character 'd' followed by a non-digit character.\n",
    "pattern = re.compile(r'd\\D')\n",
    "\n",
    "matched3 = pattern.search('dog123')\n",
    "matched3.group()"
   ]
  },
  {
   "cell_type": "code",
   "execution_count": null,
   "id": "aba1f912",
   "metadata": {},
   "outputs": [],
   "source": [
    "# Adding a plus will output all non-digit characters that follow 'd'.\n",
    "pattern = re.compile(r'd\\D+')\n",
    "\n",
    "matched3 = pattern.search('dog123')\n",
    "matched3.group()"
   ]
  },
  {
   "cell_type": "code",
   "execution_count": null,
   "id": "70a59fba",
   "metadata": {},
   "outputs": [],
   "source": [
    "# Substituting 'D' with 'w' will match the whole string, as '\\w' matches all\n",
    "# alphanumeric characters.\n",
    "pattern = re.compile(r'd\\w+')\n",
    "\n",
    "matched3 = pattern.search('dog123')\n",
    "matched3.group()"
   ]
  },
  {
   "cell_type": "code",
   "execution_count": null,
   "id": "849cebfe",
   "metadata": {},
   "outputs": [],
   "source": [
    "# Regular expression are good for finding file names having a particular extension/format.\n",
    "string = '''image01.jpg,image01.png, image02.jpg,my_doc.doc,my_doc2.docx,london_bridge.gif, another_doc.doc,my_pdf.pdf'''\n",
    "\n",
    "# The following pattern will search for all alphanumeric characters (\\w) followed by a dot (\\.)\n",
    "# and either of the extensions - jpg, png, or gif.\n",
    "pattern = re.compile(r'(\\w+)\\.(jpg|png|gif)')\n",
    "\n",
    "# The finditer() method will iterate through the string and, once it finds something,\n",
    "# it will pick up where it left off and continue the search.\n",
    "# 'm' serves as the Match object.\n",
    "for m in re.finditer(pattern, string):\n",
    "    print(m.group())"
   ]
  }
 ],
 "metadata": {
  "kernelspec": {
   "display_name": "Python 3 (ipykernel)",
   "language": "python",
   "name": "python3"
  },
  "language_info": {
   "codemirror_mode": {
    "name": "ipython",
    "version": 3
   },
   "file_extension": ".py",
   "mimetype": "text/x-python",
   "name": "python",
   "nbconvert_exporter": "python",
   "pygments_lexer": "ipython3",
   "version": "3.8.8"
  }
 },
 "nbformat": 4,
 "nbformat_minor": 5
}
