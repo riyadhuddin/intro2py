{
 "cells": [
  {
   "cell_type": "markdown",
   "id": "4210671e",
   "metadata": {},
   "source": [
    "<hr style=\"border:5px solid #141F31\"> </hr>"
   ]
  },
  {
   "cell_type": "markdown",
   "id": "c6f84f9f",
   "metadata": {},
   "source": [
    "# 365 DataScience Insertion sort in Python"
   ]
  },
  {
   "cell_type": "markdown",
   "id": "33bc0a4c",
   "metadata": {},
   "source": [
    "<hr style=\"border:5px solid #141F31\"> </hr>"
   ]
  },
  {
   "cell_type": "markdown",
   "id": "c23411fa",
   "metadata": {},
   "source": [
    "## Step 1 Create a function that performs an insertion sort on a list"
   ]
  },
  {
   "cell_type": "code",
   "execution_count": null,
   "id": "94a31357",
   "metadata": {},
   "outputs": [],
   "source": [
    "# Insertion sort relies on the assumption that the sub-list to the left of the current item is sorted.\n",
    "\n",
    "def insertion_sort(my_list):\n",
    "    # Create a variable storing the lenght of the list\n",
    "    n = len(my_list)\n",
    "    \n",
    "    # This first iteration starts from the second item (index 1) and goes all the way to the end of the list. \n",
    "    for i in range(1,n):\n",
    "        \n",
    "        # Create a variable storing the value of the current item.\n",
    "        value = my_list[i]\n",
    "        \n",
    "        # The while-loop that we will implement shortly will start looping from the index of the current item,\n",
    "        # so we store it in a separate variable.\n",
    "        # This is the index that will keep track of the items to our left.\n",
    "        j = i\n",
    "        \n",
    "        # While this index is larger than 0 and while the value to the left is larger than the current value,\n",
    "        # perform the operations in the body of the loop.\n",
    "        while j > 0 and my_list[j-1] > value:\n",
    "            \n",
    "            # Swap the current item with the one to the left.\n",
    "            my_list[j] = my_list[j-1]\n",
    "            \n",
    "            # Decrease j by one\n",
    "            j = j - 1\n",
    "        \n",
    "        # Update the value sitting at index j with the value that we're on.\n",
    "        my_list[j] = value\n",
    "    \n",
    "    # Once all loops have been exhausted, return the sorted list.\n",
    "    return my_list  "
   ]
  },
  {
   "cell_type": "markdown",
   "id": "fe42fad1",
   "metadata": {},
   "source": [
    "## Step 2 Check if the function performs as expected"
   ]
  },
  {
   "cell_type": "code",
   "execution_count": null,
   "id": "2c9938e7",
   "metadata": {},
   "outputs": [],
   "source": [
    "# Create a list of numbers\n",
    "test = [6, 5, 8, 2, 3, 45, 87, 24, 70]\n",
    "\n",
    "# Sort the list using insertion sort\n",
    "insertion_sort(test)"
   ]
  }
 ],
 "metadata": {
  "kernelspec": {
   "display_name": "Python 3 (ipykernel)",
   "language": "python",
   "name": "python3"
  },
  "language_info": {
   "codemirror_mode": {
    "name": "ipython",
    "version": 3
   },
   "file_extension": ".py",
   "mimetype": "text/x-python",
   "name": "python",
   "nbconvert_exporter": "python",
   "pygments_lexer": "ipython3",
   "version": "3.8.8"
  }
 },
 "nbformat": 4,
 "nbformat_minor": 5
}
