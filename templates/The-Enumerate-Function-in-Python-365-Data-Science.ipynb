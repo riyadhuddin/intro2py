{
 "cells": [
  {
   "cell_type": "markdown",
   "id": "f254c64a",
   "metadata": {},
   "source": [
    "<hr style=\"border:5px solid #141F31\"> </hr>"
   ]
  },
  {
   "cell_type": "markdown",
   "id": "c6f84f9f",
   "metadata": {},
   "source": [
    "# 365 DataScience The enumerate function in Python"
   ]
  },
  {
   "cell_type": "markdown",
   "id": "2b7f45bb",
   "metadata": {},
   "source": [
    "<hr style=\"border:5px solid #141F31\"> </hr>"
   ]
  },
  {
   "cell_type": "markdown",
   "id": "47d21c0e",
   "metadata": {},
   "source": [
    "## Step 1 Create a list of characters"
   ]
  },
  {
   "cell_type": "code",
   "execution_count": null,
   "id": "0f6248ac",
   "metadata": {},
   "outputs": [],
   "source": [
    "# Create a list for which every item is a letter from the alphabet\n",
    "alpha_list = list('abcdefghijklmnopqrstuvwxyz')"
   ]
  },
  {
   "cell_type": "markdown",
   "id": "7cc98d16",
   "metadata": {},
   "source": [
    "## Step 2 Loop through the list using the enumerate() function"
   ]
  },
  {
   "cell_type": "code",
   "execution_count": null,
   "id": "cc101aa2",
   "metadata": {},
   "outputs": [],
   "source": [
    "for count, item in enumerate(alpha_list):\n",
    "    print(count,item)"
   ]
  },
  {
   "cell_type": "markdown",
   "id": "f0e3328b",
   "metadata": {},
   "source": [
    "## Step 3 Choose a different starting index"
   ]
  },
  {
   "cell_type": "code",
   "execution_count": null,
   "id": "2ce768d5",
   "metadata": {},
   "outputs": [],
   "source": [
    "# By default, enumerate() starts counting from zero.\n",
    "# We can change that using the 'start' parameter.\n",
    "for count, item in enumerate(alpha_list, start = 12):\n",
    "    print(count,item)"
   ]
  }
 ],
 "metadata": {
  "kernelspec": {
   "display_name": "Python 3 (ipykernel)",
   "language": "python",
   "name": "python3"
  },
  "language_info": {
   "codemirror_mode": {
    "name": "ipython",
    "version": 3
   },
   "file_extension": ".py",
   "mimetype": "text/x-python",
   "name": "python",
   "nbconvert_exporter": "python",
   "pygments_lexer": "ipython3",
   "version": "3.8.8"
  }
 },
 "nbformat": 4,
 "nbformat_minor": 5
}
