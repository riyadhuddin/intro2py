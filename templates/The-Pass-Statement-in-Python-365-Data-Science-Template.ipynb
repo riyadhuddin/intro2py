{
 "cells": [
  {
   "cell_type": "markdown",
   "id": "c955baf1",
   "metadata": {},
   "source": [
    "<hr style=\"border:5px solid #141F31\"> </hr>"
   ]
  },
  {
   "cell_type": "markdown",
   "id": "d090253a",
   "metadata": {},
   "source": [
    "# 365 DataScience The pass-statement in Python"
   ]
  },
  {
   "cell_type": "markdown",
   "id": "aae4f1e0",
   "metadata": {},
   "source": [
    "<hr style=\"border:4.5px solid #141F31\"> </hr>"
   ]
  },
  {
   "cell_type": "markdown",
   "id": "32bb84c3",
   "metadata": {},
   "source": [
    "## Step 1 Create a function without a body"
   ]
  },
  {
   "cell_type": "code",
   "execution_count": null,
   "id": "76c2a358",
   "metadata": {},
   "outputs": [],
   "source": [
    "# In this cell, we have defined a function without a body.\n",
    "# Running the code would throw an exception.\n",
    "def empty_function():"
   ]
  },
  {
   "cell_type": "markdown",
   "id": "f3ea6a9c",
   "metadata": {},
   "source": [
    "## Step 2 Use the pass-statement"
   ]
  },
  {
   "cell_type": "code",
   "execution_count": null,
   "id": "618478f6",
   "metadata": {},
   "outputs": [],
   "source": [
    "# In this cell, we have defined a function that does nothing and also does not throw an exception.\n",
    "# This is particularly useful whenever you want to build the skeleton of a program and you want to be able\n",
    "# to run it without encountering exceptions.\n",
    "def empty_function():\n",
    "    pass"
   ]
  },
  {
   "cell_type": "markdown",
   "id": "096bc834",
   "metadata": {},
   "source": [
    "<a href=\"https://365datascience.com/resources-center/offer/?utm_medium=web&utm_source=rs&utm_campaign=web-rs-the-pass-statement-in-python&utm_content=the-pass-statement-in-python&utm_term=t\">Start your 365 Journey!</a>"
   ]
  },
  {
   "cell_type": "code",
   "execution_count": null,
   "id": "f5764efe",
   "metadata": {},
   "outputs": [],
   "source": []
  }
 ],
 "metadata": {
  "kernelspec": {
   "display_name": "Python 3 (ipykernel)",
   "language": "python",
   "name": "python3"
  },
  "language_info": {
   "codemirror_mode": {
    "name": "ipython",
    "version": 3
   },
   "file_extension": ".py",
   "mimetype": "text/x-python",
   "name": "python",
   "nbconvert_exporter": "python",
   "pygments_lexer": "ipython3",
   "version": "3.9.7"
  }
 },
 "nbformat": 4,
 "nbformat_minor": 5
}
